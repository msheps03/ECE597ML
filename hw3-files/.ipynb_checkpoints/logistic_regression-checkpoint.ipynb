{
 "cells": [
  {
   "cell_type": "markdown",
   "metadata": {},
   "source": [
    "# Implement Logistic Regression for Book Classification\n",
    "\n",
    "This notebook does the following:\n",
    "\n",
    "* Loads a data set for predicting whether a book is hardcover or paperback from two input features: the thickness of the book and the weight of the book\n",
    "* Normalizes the features\n",
    "* Has a placeholder for your implementation of logistic regression\n",
    "* Plots the data and the decision boundary of the learned model\n",
    "\n",
    "Read below and follow instructions to complete the implementation.\n",
    "\n",
    "## Setup\n",
    "Run the code below to import modules, etc."
   ]
  },
  {
   "cell_type": "code",
   "execution_count": null,
   "metadata": {},
   "outputs": [],
   "source": [
    "%matplotlib inline\n",
    "%reload_ext autoreload\n",
    "%autoreload 2\n",
    "\n",
    "import numpy as np\n",
    "import matplotlib.pyplot as plt\n",
    "import pandas as pd\n",
    "\n",
    "from util import normalize_features\n",
    "from logistic_regression import logistic, cost_function, gradient_descent"
   ]
  },
  {
   "cell_type": "markdown",
   "metadata": {},
   "source": [
    "## Load and Prep Data\n",
    "*Read the code* in the cell below and run it. This loads the book data from file and selects two features to set up the training data ``X`` (data matrix) and ``y`` (label vector). It then normalizes the training data."
   ]
  },
  {
   "cell_type": "code",
   "execution_count": null,
   "metadata": {},
   "outputs": [],
   "source": [
    "data = pd.read_csv('book-data.csv', sep=',',header=None).values\n",
    "\n",
    "# % Data columns\n",
    "# %\n",
    "# % 0 - width\n",
    "# % 1 - thickness\n",
    "# % 2 - height\n",
    "# % 3 - pages\n",
    "# % 4 - hardcover\n",
    "# % 5 - weight\n",
    "\n",
    "y = data[:,4]\n",
    "\n",
    "# % Extract the normalized features into named column vectors\n",
    "width     = data[:,0]\n",
    "thickness = data[:,1]\n",
    "height    = data[:,2]\n",
    "pages     = data[:,3]\n",
    "weight    = data[:,5]\n",
    "\n",
    "m = data.shape[0]\n",
    "X = np.stack([np.ones(m), thickness, height], axis=1)\n",
    "n = X.shape[1]\n",
    "\n",
    "X, mu, sigma = normalize_features(X)"
   ]
  },
  {
   "cell_type": "markdown",
   "metadata": {},
   "source": [
    "# (1 point) Implement the ``logistic`` function\n",
    "Open the file ``logistic_regression.py`` and complete the code for the function ``logistic``. Then run the cell below to plot the logistic function for $-10 \\leq z \\leq 10$ to test your implementation --- it should look like the logistic function!"
   ]
  },
  {
   "cell_type": "code",
   "execution_count": null,
   "metadata": {},
   "outputs": [],
   "source": [
    "z = np.linspace(-10, 10, 100)\n",
    "plt.plot(z, logistic(z))\n",
    "plt.show()"
   ]
  },
  {
   "cell_type": "markdown",
   "metadata": {},
   "source": [
    "# (2 points) Implement ``cost_function``\n",
    "Complete the code for ``cost_function`` in the file ``logistic_regression.py`` to implement the logistic regression cost function. Then test it with the code in the cell below."
   ]
  },
  {
   "cell_type": "code",
   "execution_count": null,
   "metadata": {},
   "outputs": [],
   "source": [
    "theta = np.zeros(n)\n",
    "print(cost_function(X, y, theta)) # prints 38.81624...."
   ]
  },
  {
   "cell_type": "markdown",
   "metadata": {},
   "source": [
    "# Setup for plotting a learned model\n",
    "Run this cell and optionally read the code. It defines a function to help plot the data together with the decision boundary for the model we are about to learn."
   ]
  },
  {
   "cell_type": "code",
   "execution_count": null,
   "metadata": {},
   "outputs": [],
   "source": [
    "def plot_model(X, y, theta):\n",
    "    pos = y==1\n",
    "    neg = y==0\n",
    "\n",
    "    plt.scatter(X[pos,1], X[pos,2], marker='+', color='blue', label='Hardcover')\n",
    "    plt.scatter(X[neg,1], X[neg,2], marker='o', color='red', facecolors='none', label='Paperback')\n",
    "\n",
    "    # plot the decision boundary\n",
    "    x1_min = np.min(X[:,1]) - 0.5\n",
    "    x1_max = np.max(X[:,1]) + 0.5\n",
    "\n",
    "    x1 = np.array([x1_min, x1_max])\n",
    "    x2 = (theta[0] + theta[1]*x1)/(-theta[2])\n",
    "    plt.plot(x1, x2, label='Decision boundary')\n",
    "\n",
    "    plt.xlabel('thickness (normalized)')\n",
    "    plt.ylabel('height (normalized)')\n",
    "    plt.legend(loc='lower right')\n",
    "    plt.show()"
   ]
  },
  {
   "cell_type": "markdown",
   "metadata": {},
   "source": [
    "# (7 points) Implement gradient descent for logistic regression\n",
    "Now complete the code for ``gradient_descent`` in the file ``logistic_regression.py``, which runs gradient descent to find the best parameters ``theta``, and write code in the cell below to:\n",
    "\n",
    "1. Call ``gradient_descent`` to learn ``theta``\n",
    "1. Print the final value of the cost function\n",
    "1. Plot J_history to assess convergence\n",
    "1. Tune the step size and number of iterations if needed until the algorithm converges and the decision boundary (see next cell) looks reasonable\n",
    "1. Print the accuracy---the percentage of correctly classified examples in the training set"
   ]
  },
  {
   "cell_type": "code",
   "execution_count": null,
   "metadata": {},
   "outputs": [],
   "source": [
    "theta = np.zeros(n)\n",
    "\n",
    "#\n",
    "# YOUR CODE HERE\n",
    "#\n",
    "\n",
    "\n",
    "# Plots data and decision boundary. If you have learned a good theta\n",
    "# you will see a decision boundary that separates the data in a \n",
    "# reasonable way.\n",
    "plot_model(X, y, theta) "
   ]
  },
  {
   "cell_type": "code",
   "execution_count": null,
   "metadata": {},
   "outputs": [],
   "source": []
  }
 ],
 "metadata": {
  "anaconda-cloud": {},
  "kernelspec": {
   "display_name": "Python 3",
   "language": "python",
   "name": "python3"
  },
  "language_info": {
   "codemirror_mode": {
    "name": "ipython",
    "version": 3
   },
   "file_extension": ".py",
   "mimetype": "text/x-python",
   "name": "python",
   "nbconvert_exporter": "python",
   "pygments_lexer": "ipython3",
   "version": "3.7.9"
  }
 },
 "nbformat": 4,
 "nbformat_minor": 1
}
