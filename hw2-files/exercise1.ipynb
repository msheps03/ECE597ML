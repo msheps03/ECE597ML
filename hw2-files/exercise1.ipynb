{\rtf1\ansi\ansicpg1252\cocoartf2580
\cocoatextscaling0\cocoaplatform0{\fonttbl\f0\fswiss\fcharset0 Helvetica;}
{\colortbl;\red255\green255\blue255;}
{\*\expandedcolortbl;;}
\margl1440\margr1440\vieww11520\viewh8400\viewkind0
\pard\tx720\tx1440\tx2160\tx2880\tx3600\tx4320\tx5040\tx5760\tx6480\tx7200\tx7920\tx8640\pardirnatural\partightenfactor0

\f0\fs24 \cf0 \{\
 "cells": [\
  \{\
   "cell_type": "markdown",\
   "id": "377acfc4-e3de-4269-8730-eaaf0e76cf08",\
   "metadata": \{\
    "tags": []\
   \},\
   "source": [\
    "# Init Matrices"\
   ]\
  \},\
  \{\
   "cell_type": "code",\
   "execution_count": 1,\
   "id": "94b3ef01-6e17-41a4-b9d5-70fe335068cb",\
   "metadata": \{\},\
   "outputs": [],\
   "source": [\
    "import numpy as np\\n",\
    "A = np.array([[-2, -3],\\n",\
    "             [1, 0]])\\n",\
    "B = np.array([[1, 1], \\n",\
    "             [1, 0]])\\n",\
    "x = np.array([[-1],\\n",\
    "             [1]])"\
   ]\
  \},\
  \{\
   "cell_type": "code",\
   "execution_count": 2,\
   "id": "b628b907-35ed-4db6-b5a5-d991867766ad",\
   "metadata": \{\},\
   "outputs": [\
    \{\
     "name": "stdout",\
     "output_type": "stream",\
     "text": [\
      "C: \\n",\
      " [[-0.          1.        ]\\n",\
      " [-0.33333333 -0.66666667]]\\n",\
      "\\n",\
      "EUREKA!\\n",\
      "\\n",\
      "Ax: \\n",\
      " [[-1]\\n",\
      " [-1]]\\n",\
      "\\n",\
      "A^T *A: \\n",\
      " [[5 6]\\n",\
      " [6 9]]\\n",\
      "\\n",\
      "Ax-Bx: \\n",\
      " [[-1]\\n",\
      " [ 0]]\\n",\
      "\\n",\
      "||x||: \\n",\
      " [[1.41421356]]\\n",\
      "\\n",\
      "||x||: \\n",\
      " 2.0\\n",\
      "\\n",\
      "||Ax-Bx||: \\n",\
      " [[1.]]\\n",\
      "\\n",\
      "||Ax-Bx||: \\n",\
      " 1.0\\n",\
      "\\n",\
      "First Column A: \\n",\
      " [-2  1]\\n"\
     ]\
    \}\
   ],\
   "source": [\
    "#Computer C = A^-1\\n",\
    "C = np.linalg.inv(A)\\n",\
    "print(\\"C: \\\\n\\", C)\\n",\
    "\\n",\
    "# Check AC = I and CA = I ie, AC = CA\\n",\
    "AC = np.dot(A,C)\\n",\
    "CA = np.dot(C,A)\\n",\
    "\\n",\
    "if np.array_equal(AC,CA):\\n",\
    "    print(\\"\\\\nEUREKA!\\")\\n",\
    "\\n",\
    "# Compute Ax\\n",\
    "Ax = np.dot(A,x)\\n",\
    "print(\\"\\\\nAx: \\\\n\\",Ax)\\n",\
    "\\n",\
    "# Compute A^T A\\n",\
    "AT = A.transpose()\\n",\
    "ATA = np.dot(AT,A)\\n",\
    "print(\\"\\\\nA^T *A: \\\\n\\", ATA)\\n",\
    "\\n",\
    "# Compute Ax - Bx\\n",\
    "Bx = np.dot(B,x)\\n",\
    "temp = Ax - Bx\\n",\
    "print(\\"\\\\nAx-Bx: \\\\n\\", temp)\\n",\
    "\\n",\
    "# Compute ||x|| Use dot Product\\n",\
    "# sqrt(x*x)\\n",\
    "newX = np.dot(x.transpose(),x)\\n",\
    "euc_x = np.sqrt(newX)\\n",\
    "print(\\"\\\\n||x||: \\\\n\\", euc_x) # w/ sqrt\\n",\
    "print(\\"\\\\n||x||: \\\\n\\", np.linalg.norm(newX))\\n",\
    "\\n",\
    "# Compute ||Ax-Bx||\\n",\
    "euc_new = np.dot(temp.transpose(), temp)\\n",\
    "euc_newest = np.sqrt(euc_new)\\n",\
    "print(\\"\\\\n||Ax-Bx||: \\\\n\\", euc_newest) # w/ sqrt\\n",\
    "print(\\"\\\\n||Ax-Bx||: \\\\n\\",np.linalg.norm(euc_new))\\n",\
    "\\n",\
    "# Print first column of A, no for loop\\n",\
    "print(\\"\\\\nFirst Column A: \\\\n\\", A[:,0])\\n",\
    "\\n",\
    "# Assign the vector x to the first column of B (do not use a loop \'96 use \'93array slicing\'94 instead)\\n",\
    " \\n",\
    "# Compute the element-wise product between the first column of A and the second column of A\\n",\
    "\\n"\
   ]\
  \},\
  \{\
   "cell_type": "markdown",\
   "id": "249f6620-be77-4278-b416-04b917ef2b85",\
   "metadata": \{\},\
   "source": []\
  \}\
 ],\
 "metadata": \{\
  "kernelspec": \{\
   "display_name": "Python 3 (ipykernel)",\
   "language": "python",\
   "name": "python3"\
  \},\
  "language_info": \{\
   "codemirror_mode": \{\
    "name": "ipython",\
    "version": 3\
   \},\
   "file_extension": ".py",\
   "mimetype": "text/x-python",\
   "name": "python",\
   "nbconvert_exporter": "python",\
   "pygments_lexer": "ipython3",\
   "version": "3.7.11"\
  \}\
 \},\
 "nbformat": 4,\
 "nbformat_minor": 5\
\}}