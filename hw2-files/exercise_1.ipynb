{
 "cells": [
  {
   "cell_type": "code",
   "execution_count": 1,
   "id": "eac85d25-29d5-4f25-8d62-69b1f3f4cc34",
   "metadata": {},
   "outputs": [],
   "source": [
    "import numpy as np\n",
    "A = np.array([[-2, -3],\n",
    "             [1, 0]])\n",
    "B = np.array([[1, 1], \n",
    "             [1, 0]])\n",
    "x = np.array([[-1],\n",
    "             [1]])\n"
   ]
  },
  {
   "cell_type": "code",
   "execution_count": 2,
   "id": "bea10830-1a42-4364-a2d1-0fcf61aa763d",
   "metadata": {},
   "outputs": [
    {
     "name": "stdout",
     "output_type": "stream",
     "text": [
      "C: \n",
      " [[-0.     1.   ]\n",
      " [-0.333 -0.667]]\n",
      "\n",
      "Ax: \n",
      " [[-1]\n",
      " [-1]]\n",
      "\n",
      "A^T *A: \n",
      " [[5 6]\n",
      " [6 9]]\n",
      "\n",
      "Ax-Bx: \n",
      " [[-1]\n",
      " [ 0]]\n",
      "\n",
      "||x||:  [[1.41421356]]\n",
      "\n",
      "||Ax-Bx||:  [[1.]]\n",
      "\n",
      "First Column A: \n",
      " [-2  1]\n",
      "\n",
      "B column w/x: \n",
      " [[-1  1]\n",
      " [ 1  0]]\n",
      "A Product:  [6 0]\n"
     ]
    }
   ],
   "source": [
    "#Computer C = A^-1\n",
    "C = np.linalg.inv(A)\n",
    "print(\"C: \\n\", np.matrix.round(C, 3))\n",
    "\n",
    "# Check AC = I and CA = I ie, AC = CA\n",
    "AC = np.dot(A,C)\n",
    "CA = np.dot(C,A)\n",
    "\n",
    "if np.array_equal(AC,CA):\n",
    "    print(\"\\nEUREKA!\")\n",
    "\n",
    "# Compute Ax\n",
    "Ax = np.dot(A,x)\n",
    "print(\"\\nAx: \\n\",Ax)\n",
    "\n",
    "# Compute A^T A\n",
    "AT = A.transpose()\n",
    "ATA = np.dot(AT,A)\n",
    "print(\"\\nA^T *A: \\n\", ATA)\n",
    "\n",
    "# Compute Ax - Bx\n",
    "Bx = np.dot(B,x)\n",
    "D = Ax - Bx\n",
    "print(\"\\nAx-Bx: \\n\", D)\n",
    "\n",
    "# Compute ||x|| Use dot Product\n",
    "# sqrt(x*x)\n",
    "x_vec_norm = np.sqrt(np.dot(x.transpose(),x))\n",
    "print(\"\\n||x||: \", x_vec_norm) # w/ sqrt\n",
    "\n",
    "# Compute ||Ax-Bx|| \n",
    "D_vec_norm = np.sqrt(np.dot(D.transpose(), D))\n",
    "print(\"\\n||Ax-Bx||: \", D_vec_norm) # w/ sqrt\n",
    "\n",
    "# Print first column of A, no for loop\n",
    "print(\"\\nFirst Column A: \\n\", A[:,0])\n",
    "\n",
    "# Assign the vector x to the first column of B (do not use a loop – use “array slicing” instead)\n",
    "B[:,0] = x[:,0]\n",
    "print(\"\\nB column w/x: \\n\", B)\n",
    "\n",
    "# Compute the element-wise product between the first column of A and the second column of A\n",
    "A_prod = A[:, 0]*A[:, 1]\n",
    "print(\"A Product: \", A_prod)\n"
   ]
  }
 ],
 "metadata": {
  "kernelspec": {
   "display_name": "Python 3 (ipykernel)",
   "language": "python",
   "name": "python3"
  },
  "language_info": {
   "codemirror_mode": {
    "name": "ipython",
    "version": 3
   },
   "file_extension": ".py",
   "mimetype": "text/x-python",
   "name": "python",
   "nbconvert_exporter": "python",
   "pygments_lexer": "ipython3",
   "version": "3.7.7"
  }
 },
 "nbformat": 4,
 "nbformat_minor": 5
}
