{
 "cells": [
  {
   "cell_type": "code",
   "execution_count": null,
   "id": "2ddb8b24-fa8c-4baf-8076-b7535222e9ba",
   "metadata": {},
   "outputs": [],
   "source": [
    "n=5\n",
    "tp = 0.1\n",
    "pr2 = 0.20625\n",
    "pr1 = (1-tp)/n + tp*4*pr2\n",
    "\n"
   ]
  }
 ],
 "metadata": {
  "kernelspec": {
   "display_name": "Python 3 (ipykernel)",
   "language": "python",
   "name": "python3"
  },
  "language_info": {
   "codemirror_mode": {
    "name": "ipython",
    "version": 3
   },
   "file_extension": ".py",
   "mimetype": "text/x-python",
   "name": "python",
   "nbconvert_exporter": "python",
   "pygments_lexer": "ipython3",
   "version": "3.7.11"
  }
 },
 "nbformat": 4,
 "nbformat_minor": 5
}
