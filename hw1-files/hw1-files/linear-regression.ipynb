{
 "cells": [
  {
   "cell_type": "markdown",
   "metadata": {},
   "source": [
    "# Describe your problem\n",
    "Briefly describe what $x$ and $y$ are in your data, and why it may be interesting to predict $y$ for a value of $x$ that is not in the training set."
   ]
  },
  {
   "cell_type": "markdown",
   "metadata": {},
   "source": [
    "I used a basic data set that correlates the time a student studies to the grade they received. Where x is the time studying and y is the grade"
   ]
  },
  {
   "cell_type": "markdown",
   "metadata": {},
   "source": [
    "# Enter or load your data\n",
    "Either enter your x and y training data directly here as numpy arrays, or load the data from file. If you choose the latter, make sure to include your data file in the submission!\n"
   ]
  },
  {
   "cell_type": "code",
   "execution_count": 1,
   "metadata": {
    "tags": []
   },
   "outputs": [],
   "source": [
    "# Enter/load data here\n",
    "# Dataset Link: https://drive.google.com/file/d/1oakZCv7g3mlmCSdv9J8kdSaqO5_6dIOw/view\n",
    "\n",
    "import numpy as np\n",
    "import pandas as pd\n",
    "import csv\n",
    "import matplotlib.pyplot as plt\n",
    "from sklearn import datasets, linear_model\n",
    "from sklearn.linear_model import LinearRegression\n",
    "\n",
    "data = csv.reader(open('student_scores.csv', 'rt'), delimiter=\",\")\n",
    "x,y = [], [] # init empty arrays for x and y values\n",
    "not_true = False\n",
    "for row in data:\n",
    "    if not not_true: # removes header from array\n",
    "        header_x = str(row[0]) # column header, to be used as label\n",
    "        header_y = str(row[1]) # column header to be used as label\n",
    "        not_true = True\n",
    "    else:\n",
    "        x.append(float(row[0]))\n",
    "        y.append(float(row[1]))\n",
    "    \n",
    "reg_model = linear_model.LinearRegression()\n"
   ]
  },
  {
   "cell_type": "markdown",
   "metadata": {},
   "source": [
    "# Fit a linear regression model\n",
    "Fit a linear regression model to your data. You can either reuse the code from the problem you just completed, or you can use the [linear regression model from scikit learn](http://scikit-learn.org/stable/modules/generated/sklearn.linear_model.LinearRegression.html). Scikit learn is a large module of machine learning algorithms that we will be using throughout the course. It is included in the Anaconda distribution."
   ]
  },
  {
   "cell_type": "code",
   "execution_count": 2,
   "metadata": {},
   "outputs": [],
   "source": [
    "# Fit a linear regression model to your data\n",
    "# Used linear regression model from scikit, using above link: https://scikit-learn.org/stable/modules/generated/sklearn.linear_model.LinearRegression.html\n",
    "shaped_x = np.array(x).reshape(-1,1) \n",
    "shaped_y = np.array(y).reshape(-1,1) \n",
    "\n",
    "reg_model.fit(shaped_x, shaped_y)\n",
    "\n",
    "y_pred = reg_model.predict(shaped_x)\n"
   ]
  },
  {
   "cell_type": "markdown",
   "metadata": {},
   "source": [
    "# Plot the result\n",
    "Plot your data and the best fitting hypothesis."
   ]
  },
  {
   "cell_type": "code",
   "execution_count": 3,
   "metadata": {},
   "outputs": [
    {
     "data": {
      "image/png": "[encoded data removed]",
      "text/plain": [
       "<Figure size 432x288 with 1 Axes>"
      ]
     },
     "metadata": {
      "needs_background": "light"
     },
     "output_type": "display_data"
    }
   ],
   "source": [
    "# Code to generate your plot here\n",
    "plt.scatter(shaped_x,shaped_y, color = 'blue') # scatter plot of x vs y\n",
    "plt.plot(shaped_x, y_pred, color = 'black', linewidth = 2) # linear plot of expected\n",
    "\n",
    "plt.xlabel(header_x)\n",
    "plt.ylabel(header_y+\"Studied\")\n",
    "plt.grid(visible=True,which='major', axis='both')\n",
    "plt.show()"
   ]
  },
  {
   "cell_type": "markdown",
   "metadata": {},
   "source": [
    "# Make a prediction\n",
    "Use the learned hypothesis to make a prediction for an input value $x$ that was not in the data set. Briefly discuss the result in the context of the data set you chose. Does the prediction seem useful?"
   ]
  },
  {
   "cell_type": "code",
   "execution_count": 4,
   "metadata": {},
   "outputs": [
    {
     "name": "stdout",
     "output_type": "stream",
     "text": [
      "42.911=4.135*9.776 + 2.484\n"
     ]
    }
   ],
   "source": [
    "# Code to make the prediction\n",
    "given_x = np.random.uniform(0,10)\n",
    "theta1 = reg_model.coef_ # get slope\n",
    "theta0 = reg_model.intercept_ # get intercept\n",
    "expected = given_x*theta1 + theta0 # calculate expeced value\n",
    "print(\"%.3f=%.3f*%.3f + %.3f\" % (expected, given_x, theta1, theta0))"
   ]
  },
  {
   "cell_type": "markdown",
   "metadata": {},
   "source": [
    "Providing the time studied can return what a student would expect to earn as a grade. Yes, I believe this prediction is useful, but there is no accounting for the upper bound of a hundred given x, assuming accurate data can be kept on time spent on an assignment and correlating grade."
   ]
  }
 ],
 "metadata": {
  "kernelspec": {
   "display_name": "Python 3 (ipykernel)",
   "language": "python",
   "name": "python3"
  },
  "language_info": {
   "codemirror_mode": {
    "name": "ipython",
    "version": 3
   },
   "file_extension": ".py",
   "mimetype": "text/x-python",
   "name": "python",
   "nbconvert_exporter": "python",
   "pygments_lexer": "ipython3",
   "version": "3.7.11"
  }
 },
 "nbformat": 4,
 "nbformat_minor": 4
}
