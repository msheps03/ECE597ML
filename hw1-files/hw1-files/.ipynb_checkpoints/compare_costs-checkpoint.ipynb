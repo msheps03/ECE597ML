{
 "cells": [
  {
   "cell_type": "code",
   "execution_count": 2,
   "id": "convertible-september",
   "metadata": {},
   "outputs": [],
   "source": [
    "%matplotlib inline\n",
    "\n",
    "\n",
    "\n",
    "import numpy as np\n",
    "import matplotlib.pyplot as plt\n"
   ]
  },
  {
   "cell_type": "markdown",
   "id": "instructional-circulation",
   "metadata": {},
   "source": [
    "# Create a simple data set\n",
    "\n",
    "Run this cell to generate and plot some data. The data for both datasets seem to lie on a line passing through the origin. The second dataset seem to exhibit an outlier at $x=1$ (i.e. a point that deviates from the line). We will fit a linear model with $\\theta_0=0$ and $\\theta_1 =\\theta \\neq 0$ to both datasets, $h_{\\theta} (x)=\\theta x$"
   ]
  },
  {
   "cell_type": "code",
   "execution_count": 3,
   "id": "painful-repair",
   "metadata": {},
   "outputs": [],
   "source": [
    "x  = np.array([[1, 2, 3, 4]]).T\n",
    "y1 = np.array([[0.5, 2.5, 3, 3.9]]).T\n",
    "y2 = np.array([[-0.5, 2.5, 3, 3.9]]).T\n",
    "\n",
    "## TO DO: Plot the datasets \n",
    "\n"
   ]
  },
  {
   "cell_type": "markdown",
   "id": "awful-ratio",
   "metadata": {},
   "source": [
    "# Mean Square Error and Mean Absolute Error\n",
    "In  class we introduced the Mean Squared Error (MSE) as a measure of quality of fit. Another cost function is the Mean Absolute Error(MAE). Both functions are defined below. \n",
    "$$\n",
    "MSE = \\frac{1}{4}\\sum_{i=1}^4 (h_{\\theta} (x^{(i)}) - y^{(i)})^2 \\\\\n",
    "MAE = \\frac{1}{4}\\sum_{i=1}^4 |h_{\\theta} (x^{(i)}) - y^{(i)}|\n",
    "$$\n",
    "\n",
    "You are going to produce 4 figures. In figure 1 you will plot the MSE for each point $x^{(i)}$ as a function of (several values of) $\\theta$ (each term of the sum)  and the MSE as a function of $\\theta$ for dataset 1. In figure 2 you will do the same for dataset 2. In figure 3 you will do the same but for MAE and dataset 1. In figure 4 the same but for MAE and dataset 2. So in each figure you should have 5 curves.   \n",
    "\n",
    "In each figure, also identify the optimal value $\\theta^*$. Observe how $\\theta^*$ changes between dataset 1 and dataset 2 for MSE and MAE. For which cost function does $\\theta^*$ change the least? \n",
    "\n",
    "What does this mean in terms of how much weight MSE and MAE put on the term including $x^{(1)}=1$?  "
   ]
  },
  {
   "cell_type": "code",
   "execution_count": 4,
   "id": "bibliographic-composition",
   "metadata": {},
   "outputs": [],
   "source": [
    "# select several vlaues of theta\n",
    "\n",
    "theta=np.linspace(0,2,num=50)\n",
    "\n",
    "\n",
    "## TO DO: create the plots described above\n",
    "\n"
   ]
  },
  {
   "cell_type": "code",
   "execution_count": null,
   "id": "revolutionary-accused",
   "metadata": {},
   "outputs": [],
   "source": [
    "\n"
   ]
  },
  {
   "cell_type": "code",
   "execution_count": null,
   "id": "injured-mainland",
   "metadata": {},
   "outputs": [],
   "source": []
  },
  {
   "cell_type": "code",
   "execution_count": null,
   "id": "cognitive-cutting",
   "metadata": {},
   "outputs": [],
   "source": []
  }
 ],
 "metadata": {
  "kernelspec": {
   "display_name": "Python 3",
   "language": "python",
   "name": "python3"
  },
  "language_info": {
   "codemirror_mode": {
    "name": "ipython",
    "version": 3
   },
   "file_extension": ".py",
   "mimetype": "text/x-python",
   "name": "python",
   "nbconvert_exporter": "python",
   "pygments_lexer": "ipython3",
   "version": "3.7.9"
  }
 },
 "nbformat": 4,
 "nbformat_minor": 5
}
