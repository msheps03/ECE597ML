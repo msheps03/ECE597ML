{
 "cells": [
  {
   "cell_type": "markdown",
   "id": "f5a04428-dc7e-4f7a-82b4-5272e8cb8fa1",
   "metadata": {},
   "source": [
    "# Web Scraping"
   ]
  },
  {
   "cell_type": "code",
   "execution_count": 2,
   "id": "8d5fb8dc-003b-4d4f-93be-8bdb71a4b657",
   "metadata": {},
   "outputs": [],
   "source": [
    "import requests\n",
    "from bs4 import BeautifulSoup\n",
    "from lxml import etree\n",
    "\n",
    "verbose = True"
   ]
  },
  {
   "cell_type": "markdown",
   "id": "5421b042-8084-4de1-b5b5-fcb9bcb4f8c2",
   "metadata": {},
   "source": [
    "\n",
    "## Elo Ratings\n",
    "\n",
    "&#9632; For Fifa Ranking by year <br>\n",
    "&#9632; Has data on Matches [Data can be grabbed from results.csv] <br> \n",
    "<ol>\n",
    "    &#9633; Home/Away/Neutral <br>\n",
    "    &#9633; Wins/Losses/Draws <br>\n",
    "    </ol>"
   ]
  },
  {
   "cell_type": "code",
   "execution_count": 7,
   "id": "9513576e-671b-488d-bb0a-c2ddbbb24432",
   "metadata": {},
   "outputs": [
    {
     "name": "stdout",
     "output_type": "stream",
     "text": [
      "Raw HTML content \n",
      " b'<!DOCTYPE html>\\n<html lang=\"en\"><head><title>World Football Elo Ratings</title>\\n<meta http-equiv=\"Content-Type\" content=\"text/html; charset=utf-8\"/>\\n<meta name=\"description\" content=\"Ratings for national football teams based on the Elo rating system.\">\\n<meta name=\"keywords\" content=\"football, ratings, Elo, rankings, national, international, soccer, teams\">\\n<meta name=\"viewport\" content=\"width=device-width, initial-scale=1.0, minimum-scale=1.0, maximum-scale=1.0, user-scalable=no\">\\n<link rel=\"stylesheet\" href=\"scripts/slick.grid.css\" type=\"text/css\"/>\\n<link rel=\"stylesheet\" href=\"scripts/dygraph.css\" type=\"text/css\"/>\\n<script type=\"text/javascript\" src=\"scripts/dygraph.js\"></script>\\n<script type=\"text/javascript\" src=\"scripts/jquery.js\"></script>\\n<script type=\"text/javascript\" src=\"scripts/slick.core.js\"></script>\\n<script type=\"text/javascript\" src=\"scripts/slick.grid.js\"></script>\\n<script type=\"text/javascript\" src=\"scripts/cldr.js\"></script>\\n<script type=\"text/javascript\" src=\"scripts/event.js\"></script>\\n<script type=\"text/javascript\" src=\"scripts/supplemental.js\"></script>\\n<script type=\"text/javascript\" src=\"scripts/globalize.js\"></script>\\n<script type=\"text/javascript\" src=\"scripts/number.js\"></script>\\n<script type=\"text/javascript\" src=\"scripts/date.js\"></script>\\n<script type=\"text/javascript\" src=\"scripts/ratings.js\"></script>\\n<link rel=\"stylesheet\" href=\"scripts/css.css\" type=\"text/css\">\\n</head>\\n<body>\\n<div id=\"main\" class=\"main\">\\n  <h1 id=\"mainheader\" class=\"mainheader\"></h1>\\n  <div id=\"topnav\" class=\"topnav\"></div>\\n  <h3 id=\"subheader\" class=\"subheader\"></h3>\\n  <div id=\"maindiv\" class=\"maindiv\"></div>\\n</div>\\n<div id=\"mainmenu\" class=\"mainmenu\"></div>\\n<div class=\"mainloader\">\\n  <div id=\"loadheader\" class=\"loadheader\">World Football Elo&nbsp;Ratings</div>\\n</div>\\n</body>\\n</html>\\n' \n",
      "\n",
      "\n",
      "Prettified Soup \n",
      " <!DOCTYPE html>\n",
      "<html lang=\"en\">\n",
      " <head>\n",
      "  <title>\n",
      "   World Football Elo Ratings\n",
      "  </title>\n",
      "  <meta content=\"text/html; charset=utf-8\" http-equiv=\"Content-Type\"/>\n",
      "  <meta content=\"Ratings for national football teams based on the Elo rating system.\" name=\"description\"/>\n",
      "  <meta content=\"football, ratings, Elo, rankings, national, international, soccer, teams\" name=\"keywords\"/>\n",
      "  <meta content=\"width=device-width, initial-scale=1.0, minimum-scale=1.0, maximum-scale=1.0, user-scalable=no\" name=\"viewport\"/>\n",
      "  <link href=\"scripts/slick.grid.css\" rel=\"stylesheet\" type=\"text/css\"/>\n",
      "  <link href=\"scripts/dygraph.css\" rel=\"stylesheet\" type=\"text/css\"/>\n",
      "  <script src=\"scripts/dygraph.js\" type=\"text/javascript\">\n",
      "  </script>\n",
      "  <script src=\"scripts/jquery.js\" type=\"text/javascript\">\n",
      "  </script>\n",
      "  <script src=\"scripts/slick.core.js\" type=\"text/javascript\">\n",
      "  </script>\n",
      "  <script src=\"scripts/slick.grid.js\" type=\"text/javascript\">\n",
      "  </script>\n",
      "  <script src=\"scripts/cldr.js\" type=\"text/javascript\">\n",
      "  </script>\n",
      "  <script src=\"scripts/event.js\" type=\"text/javascript\">\n",
      "  </script>\n",
      "  <script src=\"scripts/supplemental.js\" type=\"text/javascript\">\n",
      "  </script>\n",
      "  <script src=\"scripts/globalize.js\" type=\"text/javascript\">\n",
      "  </script>\n",
      "  <script src=\"scripts/number.js\" type=\"text/javascript\">\n",
      "  </script>\n",
      "  <script src=\"scripts/date.js\" type=\"text/javascript\">\n",
      "  </script>\n",
      "  <script src=\"scripts/ratings.js\" type=\"text/javascript\">\n",
      "  </script>\n",
      "  <link href=\"scripts/css.css\" rel=\"stylesheet\" type=\"text/css\"/>\n",
      " </head>\n",
      " <body>\n",
      "  <div class=\"main\" id=\"main\">\n",
      "   <h1 class=\"mainheader\" id=\"mainheader\">\n",
      "   </h1>\n",
      "   <div class=\"topnav\" id=\"topnav\">\n",
      "   </div>\n",
      "   <h3 class=\"subheader\" id=\"subheader\">\n",
      "   </h3>\n",
      "   <div class=\"maindiv\" id=\"maindiv\">\n",
      "   </div>\n",
      "  </div>\n",
      "  <div class=\"mainmenu\" id=\"mainmenu\">\n",
      "  </div>\n",
      "  <div class=\"mainloader\">\n",
      "   <div class=\"loadheader\" id=\"loadheader\">\n",
      "    World Football Elo Ratings\n",
      "   </div>\n",
      "  </div>\n",
      " </body>\n",
      "</html>\n",
      " \n",
      "\n",
      "\n"
     ]
    }
   ],
   "source": [
    "URL = 'https://eloratings.net/' \n",
    "requested = requests.get(URL) # get URL\n",
    "\n",
    "if verbose: # print raw html content\n",
    "    print('Raw HTML content \\n', requested.content, '\\n\\n')\n",
    "\n",
    "soup = BeautifulSoup(requested.content, 'lxml')\n",
    "\n",
    "if verbose:\n",
    "    print('Prettified Soup \\n', soup.prettify(), '\\n\\n')"
   ]
  },
  {
   "cell_type": "markdown",
   "id": "5719b256-b646-4f4b-a16d-726b1d31548c",
   "metadata": {},
   "source": [
    "\n",
    "## Transfer Market\n",
    "\n",
    "&#9632; Squad Size <br>\n",
    "&#9632; Average Age <br> \n",
    "&#9632; Total Value <br>\n",
    "&#9632; Points <br>\n",
    "&#9632; Confederation <br>\n",
    "<ol>\n",
    "    &#9633; Valuable b/c could get confederation data to use <br>\n",
    "    &#9633; Potential Issue Confederation stats only, CONACAF not as good as UEFA <br>\n",
    "    </ol>"
   ]
  },
  {
   "cell_type": "code",
   "execution_count": 8,
   "id": "6b320f5e-6351-4862-a52f-dd85794d6821",
   "metadata": {},
   "outputs": [
    {
     "name": "stdout",
     "output_type": "stream",
     "text": [
      "Raw HTML content \n",
      " b'<html>\\r\\n<head><title>404 Not Found</title></head>\\r\\n<body bgcolor=\"white\">\\r\\n<center><h1>404 Not Found</h1></center>\\r\\n<hr><center>nginx</center>\\r\\n</body>\\r\\n</html>\\r\\n' \n",
      "\n",
      "\n",
      "Prettified Soup \n",
      " <html>\n",
      " <head>\n",
      "  <title>\n",
      "   404 Not Found\n",
      "  </title>\n",
      " </head>\n",
      " <body bgcolor=\"white\">\n",
      "  <center>\n",
      "   <h1>\n",
      "    404 Not Found\n",
      "   </h1>\n",
      "  </center>\n",
      "  <hr/>\n",
      "  <center>\n",
      "   nginx\n",
      "  </center>\n",
      " </body>\n",
      "</html>\n",
      " \n",
      "\n",
      "\n"
     ]
    }
   ],
   "source": [
    "URL = 'https://www.transfermarkt.us/wettbewerbe/fifa' # URL of website w/ chart or data\n",
    "requested = requests.get(URL) # get URL\n",
    "\n",
    "if verbose: # print raw html content\n",
    "    print('Raw HTML content \\n', requested.content, '\\n\\n')\n",
    "\n",
    "soup = BeautifulSoup(requested.content, 'lxml')\n",
    "\n",
    "if verbose:\n",
    "    print('Prettified Soup \\n', soup.prettify(), '\\n\\n')"
   ]
  },
  {
   "cell_type": "markdown",
   "id": "7bb1c863-ebc5-45b5-b144-74d9fb2681e5",
   "metadata": {},
   "source": [
    "\n",
    "## Fifa Index\n",
    "\n",
    "&#9632; Get Fifa video game team rankings <br>\n",
    "<ol>\n",
    "    &#9633; ATT <br>\n",
    "    &#9633; MID <br>\n",
    "    &#9633; DEF <br>\n",
    "    &#9633; OVR <br>\n",
    "    &#9633; Team Rating <br>\n",
    "    </ol>\n",
    "    \n",
    "&#9632; How much of this is UNIQUE data? <br>\n",
    "&#9632; Easier to calculate OVR? <br>"
   ]
  },
  {
   "cell_type": "code",
   "execution_count": 2,
   "id": "0c4eec95-8672-4dde-bd82-f0baf4003597",
   "metadata": {},
   "outputs": [],
   "source": [
    "def get_Fifa_Index(URL, teamRank):\n",
    "    webpage = requests.get(URL)\n",
    "    soup = BeautifulSoup(webpage.content, 'lxml')\n",
    "    dom = etree.HTML(str(soup))\n",
    "    # /a for team name and /span for int\n",
    "    # tr[i]/td[j], where (i-2) is team rank, where j is column {2; Team Name, 4; ATT, 5; MID, 6; DEF, 7; OVR}  \n",
    "\n",
    "    moreTeams = True\n",
    "    currentRow = ['Name', 'ATT', 'MID', 'DEF']\n",
    "    i=0\n",
    "    while moreTeams:\n",
    "\n",
    "        teamVal = i+3\n",
    "        xpath = '/html/body/main/div/div/div[2]/div[2]/table/tbody/tr[' + str(teamVal) + ']/td[2]/a'\n",
    "        try:\n",
    "            #print('try:', i)\n",
    "            currentRow[0]=(dom.xpath(xpath)[0].text)\n",
    "            for j in range(4, 7):\n",
    "                xpath = '/html/body/main/div/div/div[2]/div[2]/table/tbody/tr[' + str(teamVal) + ']/td[' + str(j) + ']/span'\n",
    "                #print(xpath)\n",
    "                currentRow[j-3]=(dom.xpath(xpath)[0].text)\n",
    "            teamRank.append(currentRow)\n",
    "            currentRow = ['Name', 'ATT', 'MID', 'DEF']\n",
    "            count = 0\n",
    "            i +=1\n",
    "        except:\n",
    "            #print('except: ', i)\n",
    "            count += 1\n",
    "            i += 1\n",
    "            if count == 5:\n",
    "                break\n",
    "            pass"
   ]
  },
  {
   "cell_type": "code",
   "execution_count": 3,
   "id": "53b7c10e-e5b7-4c2d-9fe8-b40742bad924",
   "metadata": {},
   "outputs": [
    {
     "name": "stdout",
     "output_type": "stream",
     "text": [
      "0, France, 85, 86, 83\n",
      "1, Germany, 83, 85, 80\n",
      "2, Portugal, 85, 83, 85\n",
      "3, Spain, 83, 85, 83\n",
      "4, England, 86, 83, 83\n",
      "5, Argentina, 86, 81, 81\n",
      "6, Italy, 84, 84, 82\n",
      "7, Belgium, 83, 82, 80\n",
      "8, Holland, 81, 82, 83\n",
      "9, Brazil, 80, 80, 80\n",
      "10, Denmark, 77, 78, 79\n",
      "11, Poland, 81, 74, 75\n",
      "12, Mexico, 80, 78, 74\n",
      "13, Austria (National team), 79, 78, 78\n",
      "14, Czech Republic, 79, 76, 76\n",
      "15, Norway, 81, 76, 73\n",
      "16, Sweden, 79, 76, 75\n",
      "17, Ukraine, 76, 77, 74\n",
      "18, Scotland, 73, 76, 77\n",
      "19, United States, 75, 75, 74\n",
      "20, Wales, 74, 74, 72\n",
      "21, Greece, 73, 74, 73\n",
      "22, Canada, 75, 73, 70\n",
      "23, Hungary, 74, 69, 73\n",
      "24, Republic of Ireland, 69, 73, 74\n",
      "25, Romania, 72, 72, 68\n",
      "26, Finland, 72, 72, 68\n",
      "27, Australia, 75, 69, 70\n",
      "28, China PR, 74, 70, 67\n",
      "29, Iceland, 70, 68, 70\n",
      "30, Northern Ireland, 65, 70, 71\n",
      "31, New Zealand, 69, 67, 68\n"
     ]
    }
   ],
   "source": [
    "URL = ['https://www.fifaindex.com/teams/?page=1&type=1', 'https://www.fifaindex.com/teams/?page=2&type=1']\n",
    "teamRank =[]\n",
    "for i in range(len(URL)):\n",
    "    get_Fifa_Index(URL[i], teamRank)\n",
    "    \n",
    "for x in range(len(teamRank)):\n",
    "    print('%i, %s, %s, %s, %s' % (x, teamRank[x][0], teamRank[x][1], teamRank[x][2], teamRank[x][3]))"
   ]
  },
  {
   "cell_type": "markdown",
   "id": "d915875e-07de-403b-b2a7-680d01741380",
   "metadata": {},
   "source": [
    "\n",
    "## Fifa Ranking\n",
    "\n",
    "&#9632; Total Points <br>\n",
    "&#9632; Ranking <br>"
   ]
  },
  {
   "cell_type": "code",
   "execution_count": 2,
   "id": "499b9c60-aef9-48ea-9bf3-ef53387b4dd9",
   "metadata": {},
   "outputs": [],
   "source": [
    "from selenium import webdriver\n",
    "from selenium.webdriver.remote.webelement import WebElement\n",
    "from selenium.common.exceptions import StaleElementReferenceException\n",
    "\n",
    "def waitForLoad(driver):\n",
    "    elem = driver.find_element_by_tag_name(\"html\") \n",
    "    count = 0\n",
    "    while True:\n",
    "        count += 1\n",
    "        if count > 20:\n",
    "            print(\"Timing out after 10 seconds and returning\")\n",
    "            return\n",
    "        time.sleep(.5) \n",
    "        try:\n",
    "            elem == driver.find_element_by_tag_name(\"html\") \n",
    "        except StaleElementReferenceException:\n",
    "            return"
   ]
  },
  {
   "cell_type": "code",
   "execution_count": 10,
   "id": "c3cfc733-5c5a-4137-ac25-3033bb85597e",
   "metadata": {},
   "outputs": [
    {
     "name": "stdout",
     "output_type": "stream",
     "text": [
      "<Response [401]>\n"
     ]
    }
   ],
   "source": [
    "URL = 'https://www.fifa.com/fifa-world-ranking/men?dateId=id13471'\n",
    "\n",
    "#my_headers = {'accept-encoding':'gzip'}\n",
    "headers = requests.head(URL)\n",
    "print(headers)"
   ]
  },
  {
   "cell_type": "code",
   "execution_count": 6,
   "id": "f692758c-7ae1-4896-ba4d-24e53595ba9d",
   "metadata": {},
   "outputs": [
    {
     "ename": "ContentDecodingError",
     "evalue": "('Received response with content-encoding: gzip, but failed to decode it.', error('Error -3 while decompressing data: incorrect header check'))",
     "output_type": "error",
     "traceback": [
      "\u001b[1;31m---------------------------------------------------------------------------\u001b[0m",
      "\u001b[1;31merror\u001b[0m                                     Traceback (most recent call last)",
      "\u001b[1;32m~\\anaconda3\\envs\\ECE597ML\\lib\\site-packages\\urllib3\\response.py\u001b[0m in \u001b[0;36m_decode\u001b[1;34m(self, data, decode_content, flush_decoder)\u001b[0m\n\u001b[0;32m    400\u001b[0m             \u001b[1;32mif\u001b[0m \u001b[0mself\u001b[0m\u001b[1;33m.\u001b[0m\u001b[0m_decoder\u001b[0m\u001b[1;33m:\u001b[0m\u001b[1;33m\u001b[0m\u001b[1;33m\u001b[0m\u001b[0m\n\u001b[1;32m--> 401\u001b[1;33m                 \u001b[0mdata\u001b[0m \u001b[1;33m=\u001b[0m \u001b[0mself\u001b[0m\u001b[1;33m.\u001b[0m\u001b[0m_decoder\u001b[0m\u001b[1;33m.\u001b[0m\u001b[0mdecompress\u001b[0m\u001b[1;33m(\u001b[0m\u001b[0mdata\u001b[0m\u001b[1;33m)\u001b[0m\u001b[1;33m\u001b[0m\u001b[1;33m\u001b[0m\u001b[0m\n\u001b[0m\u001b[0;32m    402\u001b[0m         \u001b[1;32mexcept\u001b[0m \u001b[0mself\u001b[0m\u001b[1;33m.\u001b[0m\u001b[0mDECODER_ERROR_CLASSES\u001b[0m \u001b[1;32mas\u001b[0m \u001b[0me\u001b[0m\u001b[1;33m:\u001b[0m\u001b[1;33m\u001b[0m\u001b[1;33m\u001b[0m\u001b[0m\n",
      "\u001b[1;32m~\\anaconda3\\envs\\ECE597ML\\lib\\site-packages\\urllib3\\response.py\u001b[0m in \u001b[0;36mdecompress\u001b[1;34m(self, data)\u001b[0m\n\u001b[0;32m     87\u001b[0m             \u001b[1;32mtry\u001b[0m\u001b[1;33m:\u001b[0m\u001b[1;33m\u001b[0m\u001b[1;33m\u001b[0m\u001b[0m\n\u001b[1;32m---> 88\u001b[1;33m                 \u001b[0mret\u001b[0m \u001b[1;33m+=\u001b[0m \u001b[0mself\u001b[0m\u001b[1;33m.\u001b[0m\u001b[0m_obj\u001b[0m\u001b[1;33m.\u001b[0m\u001b[0mdecompress\u001b[0m\u001b[1;33m(\u001b[0m\u001b[0mdata\u001b[0m\u001b[1;33m)\u001b[0m\u001b[1;33m\u001b[0m\u001b[1;33m\u001b[0m\u001b[0m\n\u001b[0m\u001b[0;32m     89\u001b[0m             \u001b[1;32mexcept\u001b[0m \u001b[0mzlib\u001b[0m\u001b[1;33m.\u001b[0m\u001b[0merror\u001b[0m\u001b[1;33m:\u001b[0m\u001b[1;33m\u001b[0m\u001b[1;33m\u001b[0m\u001b[0m\n",
      "\u001b[1;31merror\u001b[0m: Error -3 while decompressing data: incorrect header check",
      "\nDuring handling of the above exception, another exception occurred:\n",
      "\u001b[1;31mDecodeError\u001b[0m                               Traceback (most recent call last)",
      "\u001b[1;32m~\\anaconda3\\envs\\ECE597ML\\lib\\site-packages\\requests\\models.py\u001b[0m in \u001b[0;36mgenerate\u001b[1;34m()\u001b[0m\n\u001b[0;32m    759\u001b[0m                 \u001b[1;32mtry\u001b[0m\u001b[1;33m:\u001b[0m\u001b[1;33m\u001b[0m\u001b[1;33m\u001b[0m\u001b[0m\n\u001b[1;32m--> 760\u001b[1;33m                     \u001b[1;32mfor\u001b[0m \u001b[0mchunk\u001b[0m \u001b[1;32min\u001b[0m \u001b[0mself\u001b[0m\u001b[1;33m.\u001b[0m\u001b[0mraw\u001b[0m\u001b[1;33m.\u001b[0m\u001b[0mstream\u001b[0m\u001b[1;33m(\u001b[0m\u001b[0mchunk_size\u001b[0m\u001b[1;33m,\u001b[0m \u001b[0mdecode_content\u001b[0m\u001b[1;33m=\u001b[0m\u001b[1;32mTrue\u001b[0m\u001b[1;33m)\u001b[0m\u001b[1;33m:\u001b[0m\u001b[1;33m\u001b[0m\u001b[1;33m\u001b[0m\u001b[0m\n\u001b[0m\u001b[0;32m    761\u001b[0m                         \u001b[1;32myield\u001b[0m \u001b[0mchunk\u001b[0m\u001b[1;33m\u001b[0m\u001b[1;33m\u001b[0m\u001b[0m\n",
      "\u001b[1;32m~\\anaconda3\\envs\\ECE597ML\\lib\\site-packages\\urllib3\\response.py\u001b[0m in \u001b[0;36mstream\u001b[1;34m(self, amt, decode_content)\u001b[0m\n\u001b[0;32m    575\u001b[0m             \u001b[1;32mwhile\u001b[0m \u001b[1;32mnot\u001b[0m \u001b[0mis_fp_closed\u001b[0m\u001b[1;33m(\u001b[0m\u001b[0mself\u001b[0m\u001b[1;33m.\u001b[0m\u001b[0m_fp\u001b[0m\u001b[1;33m)\u001b[0m\u001b[1;33m:\u001b[0m\u001b[1;33m\u001b[0m\u001b[1;33m\u001b[0m\u001b[0m\n\u001b[1;32m--> 576\u001b[1;33m                 \u001b[0mdata\u001b[0m \u001b[1;33m=\u001b[0m \u001b[0mself\u001b[0m\u001b[1;33m.\u001b[0m\u001b[0mread\u001b[0m\u001b[1;33m(\u001b[0m\u001b[0mamt\u001b[0m\u001b[1;33m=\u001b[0m\u001b[0mamt\u001b[0m\u001b[1;33m,\u001b[0m \u001b[0mdecode_content\u001b[0m\u001b[1;33m=\u001b[0m\u001b[0mdecode_content\u001b[0m\u001b[1;33m)\u001b[0m\u001b[1;33m\u001b[0m\u001b[1;33m\u001b[0m\u001b[0m\n\u001b[0m\u001b[0;32m    577\u001b[0m \u001b[1;33m\u001b[0m\u001b[0m\n",
      "\u001b[1;32m~\\anaconda3\\envs\\ECE597ML\\lib\\site-packages\\urllib3\\response.py\u001b[0m in \u001b[0;36mread\u001b[1;34m(self, amt, decode_content, cache_content)\u001b[0m\n\u001b[0;32m    547\u001b[0m \u001b[1;33m\u001b[0m\u001b[0m\n\u001b[1;32m--> 548\u001b[1;33m             \u001b[0mdata\u001b[0m \u001b[1;33m=\u001b[0m \u001b[0mself\u001b[0m\u001b[1;33m.\u001b[0m\u001b[0m_decode\u001b[0m\u001b[1;33m(\u001b[0m\u001b[0mdata\u001b[0m\u001b[1;33m,\u001b[0m \u001b[0mdecode_content\u001b[0m\u001b[1;33m,\u001b[0m \u001b[0mflush_decoder\u001b[0m\u001b[1;33m)\u001b[0m\u001b[1;33m\u001b[0m\u001b[1;33m\u001b[0m\u001b[0m\n\u001b[0m\u001b[0;32m    549\u001b[0m \u001b[1;33m\u001b[0m\u001b[0m\n",
      "\u001b[1;32m~\\anaconda3\\envs\\ECE597ML\\lib\\site-packages\\urllib3\\response.py\u001b[0m in \u001b[0;36m_decode\u001b[1;34m(self, data, decode_content, flush_decoder)\u001b[0m\n\u001b[0;32m    406\u001b[0m                 \u001b[1;34m\"failed to decode it.\"\u001b[0m \u001b[1;33m%\u001b[0m \u001b[0mcontent_encoding\u001b[0m\u001b[1;33m,\u001b[0m\u001b[1;33m\u001b[0m\u001b[1;33m\u001b[0m\u001b[0m\n\u001b[1;32m--> 407\u001b[1;33m                 \u001b[0me\u001b[0m\u001b[1;33m,\u001b[0m\u001b[1;33m\u001b[0m\u001b[1;33m\u001b[0m\u001b[0m\n\u001b[0m\u001b[0;32m    408\u001b[0m             )\n",
      "\u001b[1;31mDecodeError\u001b[0m: ('Received response with content-encoding: gzip, but failed to decode it.', error('Error -3 while decompressing data: incorrect header check'))",
      "\nDuring handling of the above exception, another exception occurred:\n",
      "\u001b[1;31mContentDecodingError\u001b[0m                      Traceback (most recent call last)",
      "\u001b[1;32m~\\AppData\\Local\\Temp\\ipykernel_19932\\3554937165.py\u001b[0m in \u001b[0;36m<module>\u001b[1;34m\u001b[0m\n\u001b[0;32m      1\u001b[0m \u001b[0mURL\u001b[0m \u001b[1;33m=\u001b[0m \u001b[1;34m'https://www.fifa.com/fifa-world-ranking/men'\u001b[0m\u001b[1;33m\u001b[0m\u001b[1;33m\u001b[0m\u001b[0m\n\u001b[1;32m----> 2\u001b[1;33m \u001b[0mwebpage\u001b[0m \u001b[1;33m=\u001b[0m \u001b[0mrequests\u001b[0m\u001b[1;33m.\u001b[0m\u001b[0mget\u001b[0m\u001b[1;33m(\u001b[0m\u001b[0mURL\u001b[0m\u001b[1;33m,\u001b[0m \u001b[0mheaders\u001b[0m\u001b[1;33m=\u001b[0m\u001b[1;33m{\u001b[0m\u001b[1;34m'Accept-Encoding'\u001b[0m\u001b[1;33m:\u001b[0m \u001b[1;34m'identity'\u001b[0m\u001b[1;33m}\u001b[0m\u001b[1;33m)\u001b[0m\u001b[1;33m\u001b[0m\u001b[1;33m\u001b[0m\u001b[0m\n\u001b[0m\u001b[0;32m      3\u001b[0m \u001b[0msoup\u001b[0m \u001b[1;33m=\u001b[0m \u001b[0mBeautifulSoup\u001b[0m\u001b[1;33m(\u001b[0m\u001b[0mwebpage\u001b[0m\u001b[1;33m.\u001b[0m\u001b[0mtext\u001b[0m\u001b[1;33m,\u001b[0m \u001b[1;34m'lxml'\u001b[0m\u001b[1;33m)\u001b[0m\u001b[1;33m\u001b[0m\u001b[1;33m\u001b[0m\u001b[0m\n\u001b[0;32m      4\u001b[0m \u001b[0mdom\u001b[0m \u001b[1;33m=\u001b[0m \u001b[0metree\u001b[0m\u001b[1;33m.\u001b[0m\u001b[0mHTML\u001b[0m\u001b[1;33m(\u001b[0m\u001b[0mstr\u001b[0m\u001b[1;33m(\u001b[0m\u001b[0msoup\u001b[0m\u001b[1;33m)\u001b[0m\u001b[1;33m)\u001b[0m\u001b[1;33m\u001b[0m\u001b[1;33m\u001b[0m\u001b[0m\n\u001b[0;32m      5\u001b[0m \u001b[0mxpath\u001b[0m \u001b[1;33m=\u001b[0m \u001b[1;34m'//*[@id=\"content\"]/main/section[2]/div/div/div[1]/table/tbody/tr[1]/td[3]/span[1]'\u001b[0m\u001b[1;33m\u001b[0m\u001b[1;33m\u001b[0m\u001b[0m\n",
      "\u001b[1;32m~\\anaconda3\\envs\\ECE597ML\\lib\\site-packages\\requests\\api.py\u001b[0m in \u001b[0;36mget\u001b[1;34m(url, params, **kwargs)\u001b[0m\n\u001b[0;32m     73\u001b[0m     \"\"\"\n\u001b[0;32m     74\u001b[0m \u001b[1;33m\u001b[0m\u001b[0m\n\u001b[1;32m---> 75\u001b[1;33m     \u001b[1;32mreturn\u001b[0m \u001b[0mrequest\u001b[0m\u001b[1;33m(\u001b[0m\u001b[1;34m'get'\u001b[0m\u001b[1;33m,\u001b[0m \u001b[0murl\u001b[0m\u001b[1;33m,\u001b[0m \u001b[0mparams\u001b[0m\u001b[1;33m=\u001b[0m\u001b[0mparams\u001b[0m\u001b[1;33m,\u001b[0m \u001b[1;33m**\u001b[0m\u001b[0mkwargs\u001b[0m\u001b[1;33m)\u001b[0m\u001b[1;33m\u001b[0m\u001b[1;33m\u001b[0m\u001b[0m\n\u001b[0m\u001b[0;32m     76\u001b[0m \u001b[1;33m\u001b[0m\u001b[0m\n\u001b[0;32m     77\u001b[0m \u001b[1;33m\u001b[0m\u001b[0m\n",
      "\u001b[1;32m~\\anaconda3\\envs\\ECE597ML\\lib\\site-packages\\requests\\api.py\u001b[0m in \u001b[0;36mrequest\u001b[1;34m(method, url, **kwargs)\u001b[0m\n\u001b[0;32m     59\u001b[0m     \u001b[1;31m# cases, and look like a memory leak in others.\u001b[0m\u001b[1;33m\u001b[0m\u001b[1;33m\u001b[0m\u001b[1;33m\u001b[0m\u001b[0m\n\u001b[0;32m     60\u001b[0m     \u001b[1;32mwith\u001b[0m \u001b[0msessions\u001b[0m\u001b[1;33m.\u001b[0m\u001b[0mSession\u001b[0m\u001b[1;33m(\u001b[0m\u001b[1;33m)\u001b[0m \u001b[1;32mas\u001b[0m \u001b[0msession\u001b[0m\u001b[1;33m:\u001b[0m\u001b[1;33m\u001b[0m\u001b[1;33m\u001b[0m\u001b[0m\n\u001b[1;32m---> 61\u001b[1;33m         \u001b[1;32mreturn\u001b[0m \u001b[0msession\u001b[0m\u001b[1;33m.\u001b[0m\u001b[0mrequest\u001b[0m\u001b[1;33m(\u001b[0m\u001b[0mmethod\u001b[0m\u001b[1;33m=\u001b[0m\u001b[0mmethod\u001b[0m\u001b[1;33m,\u001b[0m \u001b[0murl\u001b[0m\u001b[1;33m=\u001b[0m\u001b[0murl\u001b[0m\u001b[1;33m,\u001b[0m \u001b[1;33m**\u001b[0m\u001b[0mkwargs\u001b[0m\u001b[1;33m)\u001b[0m\u001b[1;33m\u001b[0m\u001b[1;33m\u001b[0m\u001b[0m\n\u001b[0m\u001b[0;32m     62\u001b[0m \u001b[1;33m\u001b[0m\u001b[0m\n\u001b[0;32m     63\u001b[0m \u001b[1;33m\u001b[0m\u001b[0m\n",
      "\u001b[1;32m~\\anaconda3\\envs\\ECE597ML\\lib\\site-packages\\requests\\sessions.py\u001b[0m in \u001b[0;36mrequest\u001b[1;34m(self, method, url, params, data, headers, cookies, files, auth, timeout, allow_redirects, proxies, hooks, stream, verify, cert, json)\u001b[0m\n\u001b[0;32m    527\u001b[0m         }\n\u001b[0;32m    528\u001b[0m         \u001b[0msend_kwargs\u001b[0m\u001b[1;33m.\u001b[0m\u001b[0mupdate\u001b[0m\u001b[1;33m(\u001b[0m\u001b[0msettings\u001b[0m\u001b[1;33m)\u001b[0m\u001b[1;33m\u001b[0m\u001b[1;33m\u001b[0m\u001b[0m\n\u001b[1;32m--> 529\u001b[1;33m         \u001b[0mresp\u001b[0m \u001b[1;33m=\u001b[0m \u001b[0mself\u001b[0m\u001b[1;33m.\u001b[0m\u001b[0msend\u001b[0m\u001b[1;33m(\u001b[0m\u001b[0mprep\u001b[0m\u001b[1;33m,\u001b[0m \u001b[1;33m**\u001b[0m\u001b[0msend_kwargs\u001b[0m\u001b[1;33m)\u001b[0m\u001b[1;33m\u001b[0m\u001b[1;33m\u001b[0m\u001b[0m\n\u001b[0m\u001b[0;32m    530\u001b[0m \u001b[1;33m\u001b[0m\u001b[0m\n\u001b[0;32m    531\u001b[0m         \u001b[1;32mreturn\u001b[0m \u001b[0mresp\u001b[0m\u001b[1;33m\u001b[0m\u001b[1;33m\u001b[0m\u001b[0m\n",
      "\u001b[1;32m~\\anaconda3\\envs\\ECE597ML\\lib\\site-packages\\requests\\sessions.py\u001b[0m in \u001b[0;36msend\u001b[1;34m(self, request, **kwargs)\u001b[0m\n\u001b[0;32m    685\u001b[0m \u001b[1;33m\u001b[0m\u001b[0m\n\u001b[0;32m    686\u001b[0m         \u001b[1;32mif\u001b[0m \u001b[1;32mnot\u001b[0m \u001b[0mstream\u001b[0m\u001b[1;33m:\u001b[0m\u001b[1;33m\u001b[0m\u001b[1;33m\u001b[0m\u001b[0m\n\u001b[1;32m--> 687\u001b[1;33m             \u001b[0mr\u001b[0m\u001b[1;33m.\u001b[0m\u001b[0mcontent\u001b[0m\u001b[1;33m\u001b[0m\u001b[1;33m\u001b[0m\u001b[0m\n\u001b[0m\u001b[0;32m    688\u001b[0m \u001b[1;33m\u001b[0m\u001b[0m\n\u001b[0;32m    689\u001b[0m         \u001b[1;32mreturn\u001b[0m \u001b[0mr\u001b[0m\u001b[1;33m\u001b[0m\u001b[1;33m\u001b[0m\u001b[0m\n",
      "\u001b[1;32m~\\anaconda3\\envs\\ECE597ML\\lib\\site-packages\\requests\\models.py\u001b[0m in \u001b[0;36mcontent\u001b[1;34m(self)\u001b[0m\n\u001b[0;32m    836\u001b[0m                 \u001b[0mself\u001b[0m\u001b[1;33m.\u001b[0m\u001b[0m_content\u001b[0m \u001b[1;33m=\u001b[0m \u001b[1;32mNone\u001b[0m\u001b[1;33m\u001b[0m\u001b[1;33m\u001b[0m\u001b[0m\n\u001b[0;32m    837\u001b[0m             \u001b[1;32melse\u001b[0m\u001b[1;33m:\u001b[0m\u001b[1;33m\u001b[0m\u001b[1;33m\u001b[0m\u001b[0m\n\u001b[1;32m--> 838\u001b[1;33m                 \u001b[0mself\u001b[0m\u001b[1;33m.\u001b[0m\u001b[0m_content\u001b[0m \u001b[1;33m=\u001b[0m \u001b[1;34mb''\u001b[0m\u001b[1;33m.\u001b[0m\u001b[0mjoin\u001b[0m\u001b[1;33m(\u001b[0m\u001b[0mself\u001b[0m\u001b[1;33m.\u001b[0m\u001b[0miter_content\u001b[0m\u001b[1;33m(\u001b[0m\u001b[0mCONTENT_CHUNK_SIZE\u001b[0m\u001b[1;33m)\u001b[0m\u001b[1;33m)\u001b[0m \u001b[1;32mor\u001b[0m \u001b[1;34mb''\u001b[0m\u001b[1;33m\u001b[0m\u001b[1;33m\u001b[0m\u001b[0m\n\u001b[0m\u001b[0;32m    839\u001b[0m \u001b[1;33m\u001b[0m\u001b[0m\n\u001b[0;32m    840\u001b[0m         \u001b[0mself\u001b[0m\u001b[1;33m.\u001b[0m\u001b[0m_content_consumed\u001b[0m \u001b[1;33m=\u001b[0m \u001b[1;32mTrue\u001b[0m\u001b[1;33m\u001b[0m\u001b[1;33m\u001b[0m\u001b[0m\n",
      "\u001b[1;32m~\\anaconda3\\envs\\ECE597ML\\lib\\site-packages\\requests\\models.py\u001b[0m in \u001b[0;36mgenerate\u001b[1;34m()\u001b[0m\n\u001b[0;32m    763\u001b[0m                     \u001b[1;32mraise\u001b[0m \u001b[0mChunkedEncodingError\u001b[0m\u001b[1;33m(\u001b[0m\u001b[0me\u001b[0m\u001b[1;33m)\u001b[0m\u001b[1;33m\u001b[0m\u001b[1;33m\u001b[0m\u001b[0m\n\u001b[0;32m    764\u001b[0m                 \u001b[1;32mexcept\u001b[0m \u001b[0mDecodeError\u001b[0m \u001b[1;32mas\u001b[0m \u001b[0me\u001b[0m\u001b[1;33m:\u001b[0m\u001b[1;33m\u001b[0m\u001b[1;33m\u001b[0m\u001b[0m\n\u001b[1;32m--> 765\u001b[1;33m                     \u001b[1;32mraise\u001b[0m \u001b[0mContentDecodingError\u001b[0m\u001b[1;33m(\u001b[0m\u001b[0me\u001b[0m\u001b[1;33m)\u001b[0m\u001b[1;33m\u001b[0m\u001b[1;33m\u001b[0m\u001b[0m\n\u001b[0m\u001b[0;32m    766\u001b[0m                 \u001b[1;32mexcept\u001b[0m \u001b[0mReadTimeoutError\u001b[0m \u001b[1;32mas\u001b[0m \u001b[0me\u001b[0m\u001b[1;33m:\u001b[0m\u001b[1;33m\u001b[0m\u001b[1;33m\u001b[0m\u001b[0m\n\u001b[0;32m    767\u001b[0m                     \u001b[1;32mraise\u001b[0m \u001b[0mConnectionError\u001b[0m\u001b[1;33m(\u001b[0m\u001b[0me\u001b[0m\u001b[1;33m)\u001b[0m\u001b[1;33m\u001b[0m\u001b[1;33m\u001b[0m\u001b[0m\n",
      "\u001b[1;31mContentDecodingError\u001b[0m: ('Received response with content-encoding: gzip, but failed to decode it.', error('Error -3 while decompressing data: incorrect header check'))"
     ]
    }
   ],
   "source": [
    "URL = 'https://www.fifa.com/fifa-world-ranking/men?dateId=id13603'\n",
    "webpage = requests.get(URL, headers={'Accept-Encoding': 'identity'})\n",
    "soup = BeautifulSoup(webpage.text, 'lxml')\n",
    "dom = etree.HTML(str(soup))\n",
    "xpath = '//*[@id=\"content\"]/main/section[2]/div/div/div[1]/table/tbody/tr[1]/td[3]/span[1]'\n",
    "print(dom.xpath(xpath))\n"
   ]
  },
  {
   "cell_type": "code",
   "execution_count": null,
   "id": "e1e6d2ee-efff-45fb-a8b8-09e8db0368ad",
   "metadata": {},
   "outputs": [],
   "source": []
  }
 ],
 "metadata": {
  "kernelspec": {
   "display_name": "Python 3 (ipykernel)",
   "language": "python",
   "name": "python3"
  },
  "language_info": {
   "codemirror_mode": {
    "name": "ipython",
    "version": 3
   },
   "file_extension": ".py",
   "mimetype": "text/x-python",
   "name": "python",
   "nbconvert_exporter": "python",
   "pygments_lexer": "ipython3",
   "version": "3.7.11"
  }
 },
 "nbformat": 4,
 "nbformat_minor": 5
}
