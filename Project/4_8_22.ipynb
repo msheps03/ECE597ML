{
 "cells": [
  {
   "cell_type": "raw",
   "id": "fbea6212-8a9e-46d0-908f-dfbc02b539bb",
   "metadata": {},
   "source": [
    "Building dataset in following format\n",
    "Home team | Away Team | Winner | Season | Season Stats..."
   ]
  },
  {
   "cell_type": "code",
   "execution_count": 1,
   "id": "c1d7f0db-068c-4d39-a855-273d0e909fcc",
   "metadata": {},
   "outputs": [],
   "source": [
    "import pandas as pd\n",
    "import numpy as np\n",
    "import matplotlib.pyplot as plt\n",
    "\n",
    "world_cup = pd.read_csv('World Cup 2018 Dataset.csv')\n",
    "all_games = pd.read_csv('results.csv')"
   ]
  },
  {
   "cell_type": "code",
   "execution_count": 2,
   "id": "6044d0df-2348-4335-84e0-774c00d4e36e",
   "metadata": {},
   "outputs": [
    {
     "name": "stdout",
     "output_type": "stream",
     "text": [
      "             date    home_team   away_team  home_score  away_score  \\\n",
      "0      1872-11-30     Scotland     England           0           0   \n",
      "1      1873-03-08      England    Scotland           4           2   \n",
      "2      1874-03-07     Scotland     England           2           1   \n",
      "3      1875-03-06      England    Scotland           2           2   \n",
      "4      1876-03-04     Scotland     England           3           0   \n",
      "...           ...          ...         ...         ...         ...   \n",
      "39649  2018-06-27  Switzerland  Costa Rica           2           2   \n",
      "39650  2018-06-28        Japan      Poland           0           1   \n",
      "39651  2018-06-28      Senegal    Colombia           0           1   \n",
      "39652  2018-06-28       Panama     Tunisia           1           2   \n",
      "39653  2018-06-28      England     Belgium           0           1   \n",
      "\n",
      "           tournament             city   country  neutral  \n",
      "0            Friendly          Glasgow  Scotland    False  \n",
      "1            Friendly           London   England    False  \n",
      "2            Friendly          Glasgow  Scotland    False  \n",
      "3            Friendly           London   England    False  \n",
      "4            Friendly          Glasgow  Scotland    False  \n",
      "...               ...              ...       ...      ...  \n",
      "39649  FIFA World Cup  Nizhny Novgorod    Russia     True  \n",
      "39650  FIFA World Cup        Volgograd    Russia     True  \n",
      "39651  FIFA World Cup           Samara    Russia     True  \n",
      "39652  FIFA World Cup          Saransk    Russia     True  \n",
      "39653  FIFA World Cup      Kaliningrad    Russia     True  \n",
      "\n",
      "[39654 rows x 9 columns]\n"
     ]
    }
   ],
   "source": [
    "print(all_games)"
   ]
  },
  {
   "cell_type": "code",
   "execution_count": 3,
   "id": "f9f6bc27-07aa-47a9-9353-00ff6a475883",
   "metadata": {},
   "outputs": [
    {
     "ename": "TypeError",
     "evalue": "first argument must be an iterable of pandas objects, you passed an object of type \"DataFrame\"",
     "output_type": "error",
     "traceback": [
      "\u001b[1;31m---------------------------------------------------------------------------\u001b[0m",
      "\u001b[1;31mTypeError\u001b[0m                                 Traceback (most recent call last)",
      "\u001b[1;32m~\\AppData\\Local\\Temp\\ipykernel_16412\\1186174122.py\u001b[0m in \u001b[0;36m<module>\u001b[1;34m\u001b[0m\n\u001b[0;32m     11\u001b[0m         \u001b[1;31m# print(adding_to)\u001b[0m\u001b[1;33m\u001b[0m\u001b[1;33m\u001b[0m\u001b[1;33m\u001b[0m\u001b[0m\n\u001b[0;32m     12\u001b[0m         \u001b[1;31m# print(type(adding_to))\u001b[0m\u001b[1;33m\u001b[0m\u001b[1;33m\u001b[0m\u001b[1;33m\u001b[0m\u001b[0m\n\u001b[1;32m---> 13\u001b[1;33m         \u001b[0mall_games_2000\u001b[0m \u001b[1;33m=\u001b[0m \u001b[0mpd\u001b[0m\u001b[1;33m.\u001b[0m\u001b[0mconcat\u001b[0m\u001b[1;33m(\u001b[0m\u001b[0madding_to\u001b[0m\u001b[1;33m)\u001b[0m\u001b[1;33m\u001b[0m\u001b[1;33m\u001b[0m\u001b[0m\n\u001b[0m\u001b[0;32m     14\u001b[0m     \u001b[0mcount\u001b[0m \u001b[1;33m+=\u001b[0m\u001b[1;36m1\u001b[0m\u001b[1;33m\u001b[0m\u001b[1;33m\u001b[0m\u001b[0m\n",
      "\u001b[1;32m~\\anaconda3\\envs\\ECE597ML\\lib\\site-packages\\pandas\\util\\_decorators.py\u001b[0m in \u001b[0;36mwrapper\u001b[1;34m(*args, **kwargs)\u001b[0m\n\u001b[0;32m    309\u001b[0m                     \u001b[0mstacklevel\u001b[0m\u001b[1;33m=\u001b[0m\u001b[0mstacklevel\u001b[0m\u001b[1;33m,\u001b[0m\u001b[1;33m\u001b[0m\u001b[1;33m\u001b[0m\u001b[0m\n\u001b[0;32m    310\u001b[0m                 )\n\u001b[1;32m--> 311\u001b[1;33m             \u001b[1;32mreturn\u001b[0m \u001b[0mfunc\u001b[0m\u001b[1;33m(\u001b[0m\u001b[1;33m*\u001b[0m\u001b[0margs\u001b[0m\u001b[1;33m,\u001b[0m \u001b[1;33m**\u001b[0m\u001b[0mkwargs\u001b[0m\u001b[1;33m)\u001b[0m\u001b[1;33m\u001b[0m\u001b[1;33m\u001b[0m\u001b[0m\n\u001b[0m\u001b[0;32m    312\u001b[0m \u001b[1;33m\u001b[0m\u001b[0m\n\u001b[0;32m    313\u001b[0m         \u001b[1;32mreturn\u001b[0m \u001b[0mwrapper\u001b[0m\u001b[1;33m\u001b[0m\u001b[1;33m\u001b[0m\u001b[0m\n",
      "\u001b[1;32m~\\anaconda3\\envs\\ECE597ML\\lib\\site-packages\\pandas\\core\\reshape\\concat.py\u001b[0m in \u001b[0;36mconcat\u001b[1;34m(objs, axis, join, ignore_index, keys, levels, names, verify_integrity, sort, copy)\u001b[0m\n\u001b[0;32m    302\u001b[0m         \u001b[0mverify_integrity\u001b[0m\u001b[1;33m=\u001b[0m\u001b[0mverify_integrity\u001b[0m\u001b[1;33m,\u001b[0m\u001b[1;33m\u001b[0m\u001b[1;33m\u001b[0m\u001b[0m\n\u001b[0;32m    303\u001b[0m         \u001b[0mcopy\u001b[0m\u001b[1;33m=\u001b[0m\u001b[0mcopy\u001b[0m\u001b[1;33m,\u001b[0m\u001b[1;33m\u001b[0m\u001b[1;33m\u001b[0m\u001b[0m\n\u001b[1;32m--> 304\u001b[1;33m         \u001b[0msort\u001b[0m\u001b[1;33m=\u001b[0m\u001b[0msort\u001b[0m\u001b[1;33m,\u001b[0m\u001b[1;33m\u001b[0m\u001b[1;33m\u001b[0m\u001b[0m\n\u001b[0m\u001b[0;32m    305\u001b[0m     )\n\u001b[0;32m    306\u001b[0m \u001b[1;33m\u001b[0m\u001b[0m\n",
      "\u001b[1;32m~\\anaconda3\\envs\\ECE597ML\\lib\\site-packages\\pandas\\core\\reshape\\concat.py\u001b[0m in \u001b[0;36m__init__\u001b[1;34m(self, objs, axis, join, keys, levels, names, ignore_index, verify_integrity, copy, sort)\u001b[0m\n\u001b[0;32m    328\u001b[0m         \u001b[1;32mif\u001b[0m \u001b[0misinstance\u001b[0m\u001b[1;33m(\u001b[0m\u001b[0mobjs\u001b[0m\u001b[1;33m,\u001b[0m \u001b[1;33m(\u001b[0m\u001b[0mABCSeries\u001b[0m\u001b[1;33m,\u001b[0m \u001b[0mABCDataFrame\u001b[0m\u001b[1;33m,\u001b[0m \u001b[0mstr\u001b[0m\u001b[1;33m)\u001b[0m\u001b[1;33m)\u001b[0m\u001b[1;33m:\u001b[0m\u001b[1;33m\u001b[0m\u001b[1;33m\u001b[0m\u001b[0m\n\u001b[0;32m    329\u001b[0m             raise TypeError(\n\u001b[1;32m--> 330\u001b[1;33m                 \u001b[1;34m\"first argument must be an iterable of pandas \"\u001b[0m\u001b[1;33m\u001b[0m\u001b[1;33m\u001b[0m\u001b[0m\n\u001b[0m\u001b[0;32m    331\u001b[0m                 \u001b[1;34mf'objects, you passed an object of type \"{type(objs).__name__}\"'\u001b[0m\u001b[1;33m\u001b[0m\u001b[1;33m\u001b[0m\u001b[0m\n\u001b[0;32m    332\u001b[0m             )\n",
      "\u001b[1;31mTypeError\u001b[0m: first argument must be an iterable of pandas objects, you passed an object of type \"DataFrame\""
     ]
    }
   ],
   "source": [
    "# year to column correlation\n",
    "count =0\n",
    "all_games_2000 =  pd.DataFrame(columns = all_games.columns)\n",
    "for date in all_games['date']:\n",
    "    year = int(date[0:4])\n",
    "    if year >= 2000 and year % 5 ==0:\n",
    "        add_to = all_games.iloc[count]\n",
    "        #print(type(add_to))\n",
    "        #print(type(all_games))\n",
    "        adding_to = pd.DataFrame(data = add_to, columns = all_games.columns)\n",
    "        # print(adding_to)\n",
    "        # print(type(adding_to))\n",
    "        all_games_2000 = pd.concat(adding_to)\n",
    "    count +=1"
   ]
  },
  {
   "cell_type": "code",
   "execution_count": 4,
   "id": "50380f5c-c57a-4c8e-bb2e-8ce52ed7fa60",
   "metadata": {},
   "outputs": [
    {
     "name": "stdout",
     "output_type": "stream",
     "text": [
      "Empty DataFrame\n",
      "Columns: [date, home_team, away_team, home_score, away_score, tournament, city, country, neutral]\n",
      "Index: []\n"
     ]
    }
   ],
   "source": [
    "print(adding_to)\n",
    "\n",
    "# all_games.to_csv('all_games_2000.csv')"
   ]
  },
  {
   "cell_type": "code",
   "execution_count": 5,
   "id": "f83ffee7-2fe1-4419-93c1-3aaa680fd5bb",
   "metadata": {},
   "outputs": [
    {
     "name": "stdout",
     "output_type": "stream",
     "text": [
      "Index(['date', 'home_team', 'away_team', 'home_score', 'away_score',\n",
      "       'tournament', 'city', 'country', 'neutral'],\n",
      "      dtype='object')\n"
     ]
    }
   ],
   "source": [
    "print(all_games.columns)"
   ]
  },
  {
   "cell_type": "code",
   "execution_count": 7,
   "id": "09b201fb-8d54-4510-90ce-96376bb54cee",
   "metadata": {},
   "outputs": [
    {
     "ename": "AttributeError",
     "evalue": "'DataFrame' object has no attribute 'concat'",
     "output_type": "error",
     "traceback": [
      "\u001b[1;31m---------------------------------------------------------------------------\u001b[0m",
      "\u001b[1;31mAttributeError\u001b[0m                            Traceback (most recent call last)",
      "\u001b[1;32m~\\AppData\\Local\\Temp\\ipykernel_16412\\909621869.py\u001b[0m in \u001b[0;36m<module>\u001b[1;34m\u001b[0m\n\u001b[0;32m      4\u001b[0m     \u001b[1;32mif\u001b[0m \u001b[0myear\u001b[0m \u001b[1;33m>=\u001b[0m \u001b[1;36m2000\u001b[0m\u001b[1;33m:\u001b[0m\u001b[1;33m\u001b[0m\u001b[1;33m\u001b[0m\u001b[0m\n\u001b[0;32m      5\u001b[0m         \u001b[0mdata\u001b[0m \u001b[1;33m=\u001b[0m \u001b[0mall_games\u001b[0m\u001b[1;33m.\u001b[0m\u001b[0miloc\u001b[0m\u001b[1;33m[\u001b[0m\u001b[0mcount\u001b[0m\u001b[1;33m]\u001b[0m\u001b[1;33m\u001b[0m\u001b[1;33m\u001b[0m\u001b[0m\n\u001b[1;32m----> 6\u001b[1;33m         \u001b[0madding_to\u001b[0m\u001b[1;33m.\u001b[0m\u001b[0mconcat\u001b[0m\u001b[1;33m(\u001b[0m\u001b[0mdata\u001b[0m\u001b[1;33m)\u001b[0m\u001b[1;33m\u001b[0m\u001b[1;33m\u001b[0m\u001b[0m\n\u001b[0m\u001b[0;32m      7\u001b[0m     \u001b[0mcount\u001b[0m \u001b[1;33m+=\u001b[0m \u001b[1;36m1\u001b[0m\u001b[1;33m\u001b[0m\u001b[1;33m\u001b[0m\u001b[0m\n\u001b[0;32m      8\u001b[0m \u001b[1;33m\u001b[0m\u001b[0m\n",
      "\u001b[1;32m~\\anaconda3\\envs\\ECE597ML\\lib\\site-packages\\pandas\\core\\generic.py\u001b[0m in \u001b[0;36m__getattr__\u001b[1;34m(self, name)\u001b[0m\n\u001b[0;32m   5485\u001b[0m         ):\n\u001b[0;32m   5486\u001b[0m             \u001b[1;32mreturn\u001b[0m \u001b[0mself\u001b[0m\u001b[1;33m[\u001b[0m\u001b[0mname\u001b[0m\u001b[1;33m]\u001b[0m\u001b[1;33m\u001b[0m\u001b[1;33m\u001b[0m\u001b[0m\n\u001b[1;32m-> 5487\u001b[1;33m         \u001b[1;32mreturn\u001b[0m \u001b[0mobject\u001b[0m\u001b[1;33m.\u001b[0m\u001b[0m__getattribute__\u001b[0m\u001b[1;33m(\u001b[0m\u001b[0mself\u001b[0m\u001b[1;33m,\u001b[0m \u001b[0mname\u001b[0m\u001b[1;33m)\u001b[0m\u001b[1;33m\u001b[0m\u001b[1;33m\u001b[0m\u001b[0m\n\u001b[0m\u001b[0;32m   5488\u001b[0m \u001b[1;33m\u001b[0m\u001b[0m\n\u001b[0;32m   5489\u001b[0m     \u001b[1;32mdef\u001b[0m \u001b[0m__setattr__\u001b[0m\u001b[1;33m(\u001b[0m\u001b[0mself\u001b[0m\u001b[1;33m,\u001b[0m \u001b[0mname\u001b[0m\u001b[1;33m:\u001b[0m \u001b[0mstr\u001b[0m\u001b[1;33m,\u001b[0m \u001b[0mvalue\u001b[0m\u001b[1;33m)\u001b[0m \u001b[1;33m->\u001b[0m \u001b[1;32mNone\u001b[0m\u001b[1;33m:\u001b[0m\u001b[1;33m\u001b[0m\u001b[1;33m\u001b[0m\u001b[0m\n",
      "\u001b[1;31mAttributeError\u001b[0m: 'DataFrame' object has no attribute 'concat'"
     ]
    }
   ],
   "source": [
    "appended_data = []\n",
    "count = 0\n",
    "for i in all_games:\n",
    "    if year >= 2000:\n",
    "        data = all_games.iloc[count]\n",
    "        adding_to.concat(data)\n",
    "    count += 1\n",
    "    \n",
    "# appended_data = pd.concat(appended_data)\n",
    "# appended_data.to_csv('new.csv')\n",
    "print(adding_to)"
   ]
  },
  {
   "cell_type": "code",
   "execution_count": null,
   "id": "493c1279-844d-4859-961a-eacaa5e29022",
   "metadata": {},
   "outputs": [],
   "source": []
  },
  {
   "cell_type": "code",
   "execution_count": null,
   "id": "e5cf986a-eef2-4a59-9185-8e18240d2b68",
   "metadata": {},
   "outputs": [],
   "source": [
    "from google.colab import drive\n",
    "drive.mount('/content/drive')\n",
    "path = '/content/drive/My Drive/597ML_Project/results.csv'\n",
    "\n",
    "csv = pd.read_csv(path)\n",
    "# print(csv)"
   ]
  },
  {
   "cell_type": "code",
   "execution_count": null,
   "id": "ecd6e839-e655-457e-8d0d-12739bd9a403",
   "metadata": {},
   "outputs": [],
   "source": [
    "# all_games = results\n",
    "\n",
    "# year to column correlation\n",
    "count =0\n",
    "all_games_2000 =  pd.read_csv('results.csv')\n",
    "for date in all_games['date']:\n",
    "    year = int(date[0:4])\n",
    "    if year >= 2000 and year % 5 ==0:\n",
    "        add_to = all_games.iloc[count]\n",
    "        #print(type(add_to))\n",
    "        #print(type(all_games))\n",
    "        adding_to = add_to.to_frame()\n",
    "        # print(adding_to)\n",
    "        # print(type(adding_to))\n",
    "        all_games_2000.append(adding_to)\n",
    "    count +=1\n",
    "\n",
    "print(all_games_2000)\n",
    "\n",
    "# all_games.to_csv('all_games_2000.csv')\n",
    "# current problem: can't append to the dataframe, therefore can't save dataframe\n",
    "# as csv. Ideally looking to make data in the shape of the above, and then we \n",
    "# either predict to the number of goals the team is gonna score, or we can look\n",
    "# at which team won and predict that for matchups\n",
    "\n",
    "\n",
    "# once able to append series to dataFrame can just do series + series or concat \n",
    "# that'd allow all_games_2000 to have everything in one row for the train test \n",
    "# split. We would also need to add a column that determines the winner, but I\n",
    "# believe that code is up above\n",
    "\n",
    "# More testing\n",
    "appended_data = []\n",
    "count = 0\n",
    "for i in all_games:\n",
    "    if year >= 2000:\n",
    "        data = all_games.iloc[count]\n",
    "        appended_data.append(data)\n",
    "    count += 1\n",
    "    \n",
    "appended_data = pd.concat(appended_data)\n",
    "appended_data.to_csv('new.csv')\n",
    "print(appended_data)\n",
    "\n",
    "#updated 4.8.22, will be returning on 4.9.22 to work more"
   ]
  },
  {
   "cell_type": "code",
   "execution_count": 8,
   "id": "cc9a9c9d-61ff-4a22-9a39-7b695964cfe5",
   "metadata": {},
   "outputs": [
    {
     "ename": "ModuleNotFoundError",
     "evalue": "No module named 'google'",
     "output_type": "error",
     "traceback": [
      "\u001b[1;31m---------------------------------------------------------------------------\u001b[0m",
      "\u001b[1;31mModuleNotFoundError\u001b[0m                       Traceback (most recent call last)",
      "\u001b[1;32m~\\AppData\\Local\\Temp\\ipykernel_16412\\2234875313.py\u001b[0m in \u001b[0;36m<module>\u001b[1;34m\u001b[0m\n\u001b[0;32m      1\u001b[0m \u001b[1;31m# import csv files\u001b[0m\u001b[1;33m\u001b[0m\u001b[1;33m\u001b[0m\u001b[1;33m\u001b[0m\u001b[0m\n\u001b[1;32m----> 2\u001b[1;33m \u001b[1;32mfrom\u001b[0m \u001b[0mgoogle\u001b[0m\u001b[1;33m.\u001b[0m\u001b[0mcolab\u001b[0m \u001b[1;32mimport\u001b[0m \u001b[0mdrive\u001b[0m\u001b[1;33m\u001b[0m\u001b[1;33m\u001b[0m\u001b[0m\n\u001b[0m\u001b[0;32m      3\u001b[0m \u001b[0mdrive\u001b[0m\u001b[1;33m.\u001b[0m\u001b[0mmount\u001b[0m\u001b[1;33m(\u001b[0m\u001b[1;34m'/content/drive'\u001b[0m\u001b[1;33m)\u001b[0m\u001b[1;33m\u001b[0m\u001b[1;33m\u001b[0m\u001b[0m\n\u001b[0;32m      4\u001b[0m \u001b[0mpath\u001b[0m \u001b[1;33m=\u001b[0m \u001b[1;34m'/content/drive/Shared drives/597ML_Project/597ML_Project/results.csv'\u001b[0m\u001b[1;33m\u001b[0m\u001b[1;33m\u001b[0m\u001b[0m\n\u001b[0;32m      5\u001b[0m \u001b[1;33m\u001b[0m\u001b[0m\n",
      "\u001b[1;31mModuleNotFoundError\u001b[0m: No module named 'google'"
     ]
    }
   ],
   "source": [
    "# import csv files\n",
    "from google.colab import drive\n",
    "drive.mount('/content/drive')\n",
    "path = '/content/drive/Shared drives/597ML_Project/597ML_Project/results.csv'\n",
    "\n",
    "csv = pd.read_csv(path)\n",
    "#print(csv)"
   ]
  },
  {
   "cell_type": "code",
   "execution_count": null,
   "id": "b90b01ff-3331-48c7-87d1-1d3d124fb3ac",
   "metadata": {},
   "outputs": [],
   "source": []
  }
 ],
 "metadata": {
  "kernelspec": {
   "display_name": "Python 3 (ipykernel)",
   "language": "python",
   "name": "python3"
  },
  "language_info": {
   "codemirror_mode": {
    "name": "ipython",
    "version": 3
   },
   "file_extension": ".py",
   "mimetype": "text/x-python",
   "name": "python",
   "nbconvert_exporter": "python",
   "pygments_lexer": "ipython3",
   "version": "3.7.11"
  }
 },
 "nbformat": 4,
 "nbformat_minor": 5
}
