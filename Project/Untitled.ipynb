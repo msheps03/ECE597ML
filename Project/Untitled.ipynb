{
 "cells": [
  {
   "cell_type": "raw",
   "id": "9b10b2d5-cb10-408e-9d39-7692ae2f3506",
   "metadata": {},
   "source": [
    "Building dataset in following format\n",
    "Home team | Away Team | Winner | Season | Season Stats..."
   ]
  },
  {
   "cell_type": "markdown",
   "id": "c618d310-d999-47d1-b0d1-92ef7d21c57a",
   "metadata": {},
   "source": [
    "Prove SIP $\\in$ NP\n",
    "\n",
    "The certificate $C$ is a permutation of $[1, \\dots, n]$, we need to check:\n",
    "\n",
    "$|V_1| = |V_2|$ for each pair of nodes $u_i, v_i \\in V_1$: $(u_{C_{u_i}}, v_{C_{v_i}}) \\in E_2$ if $(u_i, v_i) \\in E_1$ <br>\n",
    "$|E_1| = |E_2|$ for each pair of nodes $u_i, v_i \\in V_1$: $(u_{C_{u_i}}, v_{C_{v_i}}) \\notin E_2$ if $(u_i, v_i) \\notin E_1$ <br>\n",
    "\n",
    "\n",
    "It takes $O(|V_1|^2)$ time to verify the certificate, therefore subgraph-isomorphism problem $\\in$ NP.\n",
    "\n",
    "Prove SIP $\\in$ NPC by proving CLIQUE $\\le_\\text{P}$ SIP\n",
    "\n",
    "Construction:\n",
    "\n",
    "Suppose we want to check whether $G_2$ contains a clique of size $k$. We can construct a complete graph $G_1$ that has $k$ vertices, and check whether $G_1$ is isomorphic to a subgraph of $G_2$. The construction takes $O(|V|^2)$ time since $k \\le |V|$ without the loss of generality.\n",
    "\n",
    "CLIQUE $\\Rightarrow$ SIP:\n",
    "\n",
    "The clique is a subgraph of $G_2$ and isomorphic to $G_1$.\n",
    "\n",
    "SIP $\\Rightarrow$ CLIQUE:\n",
    "\n",
    "A subgraph in $G_2$ has $k$ vertices and is complete."
   ]
  },
  {
   "cell_type": "code",
   "execution_count": 1,
   "id": "23b1a2fe-274b-4261-86d5-992f708327c1",
   "metadata": {},
   "outputs": [
    {
     "name": "stdout",
     "output_type": "stream",
     "text": [
      "2022-03-31\n"
     ]
    }
   ],
   "source": [
    "date = ['2022', '03', '31']\n",
    "\n",
    "newDate = '-'.join(date)\n",
    "print(newDate)"
   ]
  },
  {
   "cell_type": "code",
   "execution_count": null,
   "id": "81d9acda-9e21-4e1e-ab6c-5c9c0f03f7b2",
   "metadata": {},
   "outputs": [],
   "source": []
  }
 ],
 "metadata": {
  "kernelspec": {
   "display_name": "Python 3 (ipykernel)",
   "language": "python",
   "name": "python3"
  },
  "language_info": {
   "codemirror_mode": {
    "name": "ipython",
    "version": 3
   },
   "file_extension": ".py",
   "mimetype": "text/x-python",
   "name": "python",
   "nbconvert_exporter": "python",
   "pygments_lexer": "ipython3",
   "version": "3.7.11"
  }
 },
 "nbformat": 4,
 "nbformat_minor": 5
}
