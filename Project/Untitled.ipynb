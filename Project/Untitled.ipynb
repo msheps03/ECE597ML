{
 "cells": [
  {
   "cell_type": "raw",
   "id": "9b10b2d5-cb10-408e-9d39-7692ae2f3506",
   "metadata": {},
   "source": [
    "Building dataset in following format\n",
    "Home team | Away Team | Winner | Season | Season Stats..."
   ]
  },
  {
   "cell_type": "code",
   "execution_count": null,
   "id": "d61367ce-3189-474f-9ae8-78aac192606d",
   "metadata": {},
   "outputs": [],
   "source": []
  }
 ],
 "metadata": {
  "kernelspec": {
   "display_name": "Python 3 (ipykernel)",
   "language": "python",
   "name": "python3"
  },
  "language_info": {
   "codemirror_mode": {
    "name": "ipython",
    "version": 3
   },
   "file_extension": ".py",
   "mimetype": "text/x-python",
   "name": "python",
   "nbconvert_exporter": "python",
   "pygments_lexer": "ipython3",
   "version": "3.7.11"
  }
 },
 "nbformat": 4,
 "nbformat_minor": 5
}
