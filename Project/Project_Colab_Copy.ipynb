{
 "cells": [
  {
   "cell_type": "markdown",
   "id": "a1d1c1cc-836c-4099-8b27-d19ce4d48216",
   "metadata": {},
   "source": [
    "\n",
    "# Imports\n"
   ]
  },
  {
   "cell_type": "code",
   "execution_count": 2,
   "id": "f031b534-5fb0-4043-993a-ae8fde75c0c5",
   "metadata": {},
   "outputs": [],
   "source": [
    "import pandas as pd\n",
    "import numpy as np\n",
    "import matplotlib.pyplot as plt\n",
    "import matplotlib.ticker as ticker\n",
    "import matplotlib.ticker as plticker\n",
    "import pickle # For saving"
   ]
  },
  {
   "cell_type": "markdown",
   "id": "c623af04-8146-4134-92d4-301226f8d481",
   "metadata": {},
   "source": [
    "\n",
    "## Import CSVs\n"
   ]
  },
  {
   "cell_type": "code",
   "execution_count": 4,
   "id": "b49614ab-0340-45f1-ba27-50d7ad87bd66",
   "metadata": {},
   "outputs": [],
   "source": [
    "world_cup = pd.read_csv('World Cup 2018 Dataset.csv') # World Cup Match Results\n",
    "results = pd.read_csv('results.csv') # results of all games since 1982\n",
    "fifa_ranking_2020 = pd.read_csv('fifa_ranking-2020-12-10.csv') # fifa rankings up to 2020\n",
    "fixtures = pd.read_csv('fixtures.csv')"
   ]
  },
  {
   "cell_type": "markdown",
   "id": "3fc6a3e6-8e45-4326-8e82-6c717e7dfbe0",
   "metadata": {},
   "source": [
    "\n",
    "# Modify results.csv\n"
   ]
  },
  {
   "cell_type": "markdown",
   "id": "495eee2e-b0a1-47b7-b0d5-2b905049254c",
   "metadata": {},
   "source": [
    "\n",
    "## Modifying/Removing existing columns\n",
    "\n",
    "&#9632; Remove Unnecessary years, interesting to compare w/ more or less years<br>\n",
    "&#9632; Seperate date into three columns\n",
    "<ol>\n",
    "    &#9633; Year <br>\n",
    "    &#9633; Month <br> \n",
    "    &#9633; Day\n",
    "</ol>\n",
    "&#9632; Additional CSV excluding draws for use with logistic <br>"
   ]
  },
  {
   "cell_type": "code",
   "execution_count": 6,
   "id": "9302a73a-2d85-44e8-82c4-82a22a2d184e",
   "metadata": {},
   "outputs": [
    {
     "name": "stdout",
     "output_type": "stream",
     "text": [
      "0        1992-12-31\n",
      "1        1992-12-31\n",
      "2        1992-12-31\n",
      "3        1992-12-31\n",
      "4        1992-12-31\n",
      "            ...    \n",
      "62419    2020-12-10\n",
      "62420    2020-12-10\n",
      "62421    2020-12-10\n",
      "62422    2020-12-10\n",
      "62423    2020-12-10\n",
      "Name: rank_date, Length: 62424, dtype: object\n"
     ]
    }
   ],
   "source": [
    "\n",
    "winner = []\n",
    "\n",
    "for i in range (len(results['home_team'])):\n",
    "    if results ['home_score'][i] > results['away_score'][i]:\n",
    "        winner.append(results['home_team'][i])\n",
    "    elif results['home_score'][i] < results ['away_score'][i]:\n",
    "        winner.append(results['away_team'][i])\n",
    "    else:\n",
    "        winner.append('Draw')\n",
    "\n",
    "# adding winning team column\n",
    "results['winning_team'] = winner\n",
    "\n",
    "# adding goal difference column \n",
    "results['goal_difference'] = np.absolute(results['home_score'] - results['away_score'])"
   ]
  },
  {
   "cell_type": "code",
   "execution_count": null,
   "id": "b09d8e3e-66e7-4cb1-a740-1697d245481f",
   "metadata": {},
   "outputs": [],
   "source": [
    "def dateClose(result, ranking):\n",
    "    if result == ranking:\n",
    "        return True\n",
    "    else:\n",
    "        return False\n",
    "\n",
    "print(fifa_ranking_2020['rank_date']) # see rank_date\n",
    "# add rankings for specific date\n",
    "rankings = []\n",
    "for i in range(len(results['date'])):\n",
    "    for j in range(len(fifa_rankings_2020['rank_date'])):\n",
    "        if results['home_team'][i] == fifa_rankings_2020['country_full'][j]: # same team\n",
    "            if dateClose(results['date'][i], fifa_rankings_2020['rank_date'][j]):\n",
    "                # same date and same country\n",
    "        \n"
   ]
  },
  {
   "cell_type": "markdown",
   "id": "cc566fbe-cfe2-4cba-b8e8-565e8cd6aca9",
   "metadata": {},
   "source": [
    "## New Additions\n",
    "\n",
    "&#9632; Convert Winning Team to Home Win(2)/Draw(1)/Home Loss(0) <br>\n",
    "&#9632; Include goal difference <br>\n",
    "&#9632; Include team value($) <br>\n",
    "&#9632; Include Fifa ranking (not standing) <br>\n",
    "&#9632; Include FIFA (EA Sports) ratings\n",
    "<ol>\n",
    "    &#9633; ATT <br>\n",
    "    &#9633; MID <br>\n",
    "    &#9633; DEF\n",
    "</ol>"
   ]
  },
  {
   "cell_type": "code",
   "execution_count": null,
   "id": "54b6054e-fa93-4c41-b110-374231c0b228",
   "metadata": {},
   "outputs": [],
   "source": []
  },
  {
   "cell_type": "markdown",
   "id": "cd0f2b8e-2c20-4d47-ade0-0552d88ca55a",
   "metadata": {},
   "source": [
    "\n",
    "## New Additions by Difference (Home_Team-Away_Team)\n",
    "\n",
    "&#9632; Convert Winning Team to Home Win(2)/Draw(1)/Home Loss(0) <br>\n",
    "&#9632; Include goal difference <br>\n",
    "&#9632; Include team value($) difference <br>\n",
    "&#9632; Include Fifa ranking (not standing) difference <br>\n",
    "&#9632; Include FIFA (EA Sports) ratings\n",
    "<ol>\n",
    "    &#9633; ATT difference <br>\n",
    "    &#9633; MID difference <br>\n",
    "    &#9633; DEF difference\n",
    "</ol>\n"
   ]
  },
  {
   "cell_type": "code",
   "execution_count": null,
   "id": "05512f2a-15c4-4979-aa62-129c2cc6a6f3",
   "metadata": {},
   "outputs": [],
   "source": []
  },
  {
   "cell_type": "markdown",
   "id": "25dca291-fc1d-4141-a7fd-206ea9a337b3",
   "metadata": {},
   "source": [
    "\n",
    "# Implementing Classifiers\n"
   ]
  }
 ],
 "metadata": {
  "kernelspec": {
   "display_name": "Python 3 (ipykernel)",
   "language": "python",
   "name": "python3"
  },
  "language_info": {
   "codemirror_mode": {
    "name": "ipython",
    "version": 3
   },
   "file_extension": ".py",
   "mimetype": "text/x-python",
   "name": "python",
   "nbconvert_exporter": "python",
   "pygments_lexer": "ipython3",
   "version": "3.7.11"
  }
 },
 "nbformat": 4,
 "nbformat_minor": 5
}
