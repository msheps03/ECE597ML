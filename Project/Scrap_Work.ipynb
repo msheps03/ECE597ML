{
 "cells": [
  {
   "cell_type": "markdown",
   "id": "738aeabe-bcca-4686-9f06-477a56285110",
   "metadata": {},
   "source": [
    "\n",
    "# Scrap Work for everything in project\n"
   ]
  },
  {
   "cell_type": "code",
   "execution_count": 2,
   "id": "226cc542-85d7-47af-acd5-7a0d34d28298",
   "metadata": {},
   "outputs": [
    {
     "name": "stdout",
     "output_type": "stream",
     "text": [
      "0\n",
      "1\n",
      "2\n",
      "4\n",
      "5\n"
     ]
    }
   ],
   "source": [
    "for i in range(6):\n",
    "    if i == 3:\n",
    "        pass\n",
    "    else:\n",
    "        print(i)"
   ]
  },
  {
   "cell_type": "code",
   "execution_count": null,
   "id": "c76c27d8-baf6-4024-a4fb-814dbe52f3cd",
   "metadata": {},
   "outputs": [],
   "source": []
  }
 ],
 "metadata": {
  "kernelspec": {
   "display_name": "Python 3 (ipykernel)",
   "language": "python",
   "name": "python3"
  },
  "language_info": {
   "codemirror_mode": {
    "name": "ipython",
    "version": 3
   },
   "file_extension": ".py",
   "mimetype": "text/x-python",
   "name": "python",
   "nbconvert_exporter": "python",
   "pygments_lexer": "ipython3",
   "version": "3.7.11"
  }
 },
 "nbformat": 4,
 "nbformat_minor": 5
}
